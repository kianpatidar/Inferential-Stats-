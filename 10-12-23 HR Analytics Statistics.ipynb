{
 "cells": [
  {
   "cell_type": "code",
   "execution_count": 1,
   "metadata": {
    "id": "3ASczP-c89Vn"
   },
   "outputs": [],
   "source": [
    "# importing the libraries\n",
    "import pandas as pd\n",
    "import numpy as np\n",
    "import matplotlib.pyplot as plt\n",
    "import seaborn as sns"
   ]
  },
  {
   "cell_type": "code",
   "execution_count": 2,
   "metadata": {},
   "outputs": [],
   "source": [
    "df=pd.read_csv('people.csv')"
   ]
  },
  {
   "cell_type": "code",
   "execution_count": 3,
   "metadata": {
    "scrolled": true
   },
   "outputs": [],
   "source": [
    "# importing the data\n",
    "df=pd.read_csv(r'C:\\Users\\Dell\\Documents\\people.csv')"
   ]
  },
  {
   "cell_type": "code",
   "execution_count": 3,
   "metadata": {
    "colab": {
     "base_uri": "https://localhost:8080/",
     "height": 270
    },
    "id": "sO3qxvCG-xlb",
    "outputId": "28261339-4ab6-40a0-b6cd-e486e4a23902",
    "scrolled": false
   },
   "outputs": [
    {
     "data": {
      "text/html": [
       "<div>\n",
       "<style scoped>\n",
       "    .dataframe tbody tr th:only-of-type {\n",
       "        vertical-align: middle;\n",
       "    }\n",
       "\n",
       "    .dataframe tbody tr th {\n",
       "        vertical-align: top;\n",
       "    }\n",
       "\n",
       "    .dataframe thead th {\n",
       "        text-align: right;\n",
       "    }\n",
       "</style>\n",
       "<table border=\"1\" class=\"dataframe\">\n",
       "  <thead>\n",
       "    <tr style=\"text-align: right;\">\n",
       "      <th></th>\n",
       "      <th>satisfactoryLevel</th>\n",
       "      <th>lastEvaluation</th>\n",
       "      <th>numberOfProjects</th>\n",
       "      <th>avgMonthlyHours</th>\n",
       "      <th>timeSpent.company</th>\n",
       "      <th>workAccident</th>\n",
       "      <th>left</th>\n",
       "      <th>promotionInLast5years</th>\n",
       "      <th>dept</th>\n",
       "      <th>salary</th>\n",
       "    </tr>\n",
       "  </thead>\n",
       "  <tbody>\n",
       "    <tr>\n",
       "      <th>0</th>\n",
       "      <td>0.38</td>\n",
       "      <td>0.53</td>\n",
       "      <td>2</td>\n",
       "      <td>157</td>\n",
       "      <td>3</td>\n",
       "      <td>0</td>\n",
       "      <td>1</td>\n",
       "      <td>0</td>\n",
       "      <td>sales</td>\n",
       "      <td>low</td>\n",
       "    </tr>\n",
       "    <tr>\n",
       "      <th>1</th>\n",
       "      <td>0.80</td>\n",
       "      <td>0.86</td>\n",
       "      <td>5</td>\n",
       "      <td>262</td>\n",
       "      <td>6</td>\n",
       "      <td>0</td>\n",
       "      <td>1</td>\n",
       "      <td>0</td>\n",
       "      <td>sales</td>\n",
       "      <td>medium</td>\n",
       "    </tr>\n",
       "    <tr>\n",
       "      <th>2</th>\n",
       "      <td>0.11</td>\n",
       "      <td>0.88</td>\n",
       "      <td>7</td>\n",
       "      <td>272</td>\n",
       "      <td>4</td>\n",
       "      <td>0</td>\n",
       "      <td>1</td>\n",
       "      <td>0</td>\n",
       "      <td>sales</td>\n",
       "      <td>medium</td>\n",
       "    </tr>\n",
       "    <tr>\n",
       "      <th>3</th>\n",
       "      <td>0.37</td>\n",
       "      <td>0.52</td>\n",
       "      <td>2</td>\n",
       "      <td>159</td>\n",
       "      <td>3</td>\n",
       "      <td>0</td>\n",
       "      <td>1</td>\n",
       "      <td>0</td>\n",
       "      <td>sales</td>\n",
       "      <td>low</td>\n",
       "    </tr>\n",
       "    <tr>\n",
       "      <th>4</th>\n",
       "      <td>0.41</td>\n",
       "      <td>0.50</td>\n",
       "      <td>2</td>\n",
       "      <td>153</td>\n",
       "      <td>3</td>\n",
       "      <td>0</td>\n",
       "      <td>1</td>\n",
       "      <td>0</td>\n",
       "      <td>sales</td>\n",
       "      <td>low</td>\n",
       "    </tr>\n",
       "  </tbody>\n",
       "</table>\n",
       "</div>"
      ],
      "text/plain": [
       "   satisfactoryLevel  lastEvaluation  numberOfProjects  avgMonthlyHours  \\\n",
       "0               0.38            0.53                 2              157   \n",
       "1               0.80            0.86                 5              262   \n",
       "2               0.11            0.88                 7              272   \n",
       "3               0.37            0.52                 2              159   \n",
       "4               0.41            0.50                 2              153   \n",
       "\n",
       "   timeSpent.company  workAccident  left  promotionInLast5years   dept  salary  \n",
       "0                  3             0     1                      0  sales     low  \n",
       "1                  6             0     1                      0  sales  medium  \n",
       "2                  4             0     1                      0  sales  medium  \n",
       "3                  3             0     1                      0  sales     low  \n",
       "4                  3             0     1                      0  sales     low  "
      ]
     },
     "execution_count": 3,
     "metadata": {},
     "output_type": "execute_result"
    }
   ],
   "source": [
    "# display top 5 records\n",
    "df.head()"
   ]
  },
  {
   "cell_type": "code",
   "execution_count": 4,
   "metadata": {},
   "outputs": [
    {
     "data": {
      "text/plain": [
       "Index(['satisfactoryLevel', 'lastEvaluation', 'numberOfProjects',\n",
       "       'avgMonthlyHours', 'timeSpent.company', 'workAccident', 'left',\n",
       "       'promotionInLast5years', 'dept', 'salary'],\n",
       "      dtype='object')"
      ]
     },
     "execution_count": 4,
     "metadata": {},
     "output_type": "execute_result"
    }
   ],
   "source": [
    "df.columns"
   ]
  },
  {
   "cell_type": "code",
   "execution_count": 5,
   "metadata": {
    "scrolled": true
   },
   "outputs": [
    {
     "data": {
      "text/plain": [
       "['satisfactoryLevel',\n",
       " 'lastEvaluation',\n",
       " 'numberOfProjects',\n",
       " 'avgMonthlyHours',\n",
       " 'timeSpent.company',\n",
       " 'workAccident',\n",
       " 'left',\n",
       " 'promotionInLast5years',\n",
       " 'dept',\n",
       " 'salary']"
      ]
     },
     "execution_count": 5,
     "metadata": {},
     "output_type": "execute_result"
    }
   ],
   "source": [
    "# check the columns\n",
    "list(df.columns)"
   ]
  },
  {
   "cell_type": "code",
   "execution_count": 6,
   "metadata": {},
   "outputs": [
    {
     "name": "stdout",
     "output_type": "stream",
     "text": [
      "<class 'pandas.core.frame.DataFrame'>\n",
      "RangeIndex: 14999 entries, 0 to 14998\n",
      "Data columns (total 10 columns):\n",
      " #   Column                 Non-Null Count  Dtype  \n",
      "---  ------                 --------------  -----  \n",
      " 0   satisfactoryLevel      14999 non-null  float64\n",
      " 1   lastEvaluation         14999 non-null  float64\n",
      " 2   numberOfProjects       14999 non-null  int64  \n",
      " 3   avgMonthlyHours        14999 non-null  int64  \n",
      " 4   timeSpent.company      14999 non-null  int64  \n",
      " 5   workAccident           14999 non-null  int64  \n",
      " 6   left                   14999 non-null  int64  \n",
      " 7   promotionInLast5years  14999 non-null  int64  \n",
      " 8   dept                   14999 non-null  object \n",
      " 9   salary                 14999 non-null  object \n",
      "dtypes: float64(2), int64(6), object(2)\n",
      "memory usage: 1.1+ MB\n"
     ]
    }
   ],
   "source": [
    "# to display the overview of a dataset\n",
    "df.info()"
   ]
  },
  {
   "cell_type": "code",
   "execution_count": 8,
   "metadata": {},
   "outputs": [
    {
     "data": {
      "text/plain": [
       "0        3\n",
       "1        6\n",
       "2        4\n",
       "3        3\n",
       "4        3\n",
       "        ..\n",
       "14994    4\n",
       "14995    2\n",
       "14996    4\n",
       "14997    5\n",
       "14998    3\n",
       "Name: timeSpent.company, Length: 14999, dtype: int64"
      ]
     },
     "execution_count": 8,
     "metadata": {},
     "output_type": "execute_result"
    }
   ],
   "source": [
    "df['timeSpent.company']"
   ]
  },
  {
   "cell_type": "code",
   "execution_count": 9,
   "metadata": {
    "scrolled": true
   },
   "outputs": [
    {
     "ename": "AttributeError",
     "evalue": "'DataFrame' object has no attribute 'timeSpent'",
     "output_type": "error",
     "traceback": [
      "\u001b[1;31m---------------------------------------------------------------------------\u001b[0m",
      "\u001b[1;31mAttributeError\u001b[0m                            Traceback (most recent call last)",
      "Input \u001b[1;32mIn [9]\u001b[0m, in \u001b[0;36m<cell line: 1>\u001b[1;34m()\u001b[0m\n\u001b[1;32m----> 1\u001b[0m \u001b[43mdf\u001b[49m\u001b[38;5;241;43m.\u001b[39;49m\u001b[43mtimeSpent\u001b[49m\u001b[38;5;241m.\u001b[39mcompany\n",
      "File \u001b[1;32m~\\anaconda3\\lib\\site-packages\\pandas\\core\\generic.py:5575\u001b[0m, in \u001b[0;36mNDFrame.__getattr__\u001b[1;34m(self, name)\u001b[0m\n\u001b[0;32m   5568\u001b[0m \u001b[38;5;28;01mif\u001b[39;00m (\n\u001b[0;32m   5569\u001b[0m     name \u001b[38;5;129;01mnot\u001b[39;00m \u001b[38;5;129;01min\u001b[39;00m \u001b[38;5;28mself\u001b[39m\u001b[38;5;241m.\u001b[39m_internal_names_set\n\u001b[0;32m   5570\u001b[0m     \u001b[38;5;129;01mand\u001b[39;00m name \u001b[38;5;129;01mnot\u001b[39;00m \u001b[38;5;129;01min\u001b[39;00m \u001b[38;5;28mself\u001b[39m\u001b[38;5;241m.\u001b[39m_metadata\n\u001b[0;32m   5571\u001b[0m     \u001b[38;5;129;01mand\u001b[39;00m name \u001b[38;5;129;01mnot\u001b[39;00m \u001b[38;5;129;01min\u001b[39;00m \u001b[38;5;28mself\u001b[39m\u001b[38;5;241m.\u001b[39m_accessors\n\u001b[0;32m   5572\u001b[0m     \u001b[38;5;129;01mand\u001b[39;00m \u001b[38;5;28mself\u001b[39m\u001b[38;5;241m.\u001b[39m_info_axis\u001b[38;5;241m.\u001b[39m_can_hold_identifiers_and_holds_name(name)\n\u001b[0;32m   5573\u001b[0m ):\n\u001b[0;32m   5574\u001b[0m     \u001b[38;5;28;01mreturn\u001b[39;00m \u001b[38;5;28mself\u001b[39m[name]\n\u001b[1;32m-> 5575\u001b[0m \u001b[38;5;28;01mreturn\u001b[39;00m \u001b[38;5;28;43mobject\u001b[39;49m\u001b[38;5;241;43m.\u001b[39;49m\u001b[38;5;21;43m__getattribute__\u001b[39;49m\u001b[43m(\u001b[49m\u001b[38;5;28;43mself\u001b[39;49m\u001b[43m,\u001b[49m\u001b[43m \u001b[49m\u001b[43mname\u001b[49m\u001b[43m)\u001b[49m\n",
      "\u001b[1;31mAttributeError\u001b[0m: 'DataFrame' object has no attribute 'timeSpent'"
     ]
    }
   ],
   "source": [
    "df.timeSpent.company"
   ]
  },
  {
   "cell_type": "code",
   "execution_count": 10,
   "metadata": {},
   "outputs": [
    {
     "data": {
      "text/plain": [
       "0           low\n",
       "1        medium\n",
       "2        medium\n",
       "3           low\n",
       "4           low\n",
       "          ...  \n",
       "14994    medium\n",
       "14995       low\n",
       "14996       low\n",
       "14997       low\n",
       "14998       low\n",
       "Name: salary, Length: 14999, dtype: object"
      ]
     },
     "execution_count": 10,
     "metadata": {},
     "output_type": "execute_result"
    }
   ],
   "source": [
    "df.salary"
   ]
  },
  {
   "cell_type": "code",
   "execution_count": 7,
   "metadata": {
    "id": "1kg3A9wZkI3o"
   },
   "outputs": [],
   "source": [
    "df.rename(columns = {'timeSpent.company':'timeSpent_company'}, inplace = True)"
   ]
  },
  {
   "cell_type": "code",
   "execution_count": 12,
   "metadata": {
    "colab": {
     "base_uri": "https://localhost:8080/",
     "height": 270
    },
    "id": "ki82uj9Zj4n6",
    "outputId": "d72d9c08-977d-4e80-d7be-7e3dcdf6ae4f"
   },
   "outputs": [
    {
     "data": {
      "text/html": [
       "<div>\n",
       "<style scoped>\n",
       "    .dataframe tbody tr th:only-of-type {\n",
       "        vertical-align: middle;\n",
       "    }\n",
       "\n",
       "    .dataframe tbody tr th {\n",
       "        vertical-align: top;\n",
       "    }\n",
       "\n",
       "    .dataframe thead th {\n",
       "        text-align: right;\n",
       "    }\n",
       "</style>\n",
       "<table border=\"1\" class=\"dataframe\">\n",
       "  <thead>\n",
       "    <tr style=\"text-align: right;\">\n",
       "      <th></th>\n",
       "      <th>satisfactoryLevel</th>\n",
       "      <th>lastEvaluation</th>\n",
       "      <th>numberOfProjects</th>\n",
       "      <th>avgMonthlyHours</th>\n",
       "      <th>timeSpent_company</th>\n",
       "      <th>workAccident</th>\n",
       "      <th>left</th>\n",
       "      <th>promotionInLast5years</th>\n",
       "      <th>dept</th>\n",
       "      <th>salary</th>\n",
       "    </tr>\n",
       "  </thead>\n",
       "  <tbody>\n",
       "    <tr>\n",
       "      <th>0</th>\n",
       "      <td>0.38</td>\n",
       "      <td>0.53</td>\n",
       "      <td>2</td>\n",
       "      <td>157</td>\n",
       "      <td>3</td>\n",
       "      <td>0</td>\n",
       "      <td>1</td>\n",
       "      <td>0</td>\n",
       "      <td>sales</td>\n",
       "      <td>low</td>\n",
       "    </tr>\n",
       "    <tr>\n",
       "      <th>1</th>\n",
       "      <td>0.80</td>\n",
       "      <td>0.86</td>\n",
       "      <td>5</td>\n",
       "      <td>262</td>\n",
       "      <td>6</td>\n",
       "      <td>0</td>\n",
       "      <td>1</td>\n",
       "      <td>0</td>\n",
       "      <td>sales</td>\n",
       "      <td>medium</td>\n",
       "    </tr>\n",
       "    <tr>\n",
       "      <th>2</th>\n",
       "      <td>0.11</td>\n",
       "      <td>0.88</td>\n",
       "      <td>7</td>\n",
       "      <td>272</td>\n",
       "      <td>4</td>\n",
       "      <td>0</td>\n",
       "      <td>1</td>\n",
       "      <td>0</td>\n",
       "      <td>sales</td>\n",
       "      <td>medium</td>\n",
       "    </tr>\n",
       "    <tr>\n",
       "      <th>3</th>\n",
       "      <td>0.37</td>\n",
       "      <td>0.52</td>\n",
       "      <td>2</td>\n",
       "      <td>159</td>\n",
       "      <td>3</td>\n",
       "      <td>0</td>\n",
       "      <td>1</td>\n",
       "      <td>0</td>\n",
       "      <td>sales</td>\n",
       "      <td>low</td>\n",
       "    </tr>\n",
       "    <tr>\n",
       "      <th>4</th>\n",
       "      <td>0.41</td>\n",
       "      <td>0.50</td>\n",
       "      <td>2</td>\n",
       "      <td>153</td>\n",
       "      <td>3</td>\n",
       "      <td>0</td>\n",
       "      <td>1</td>\n",
       "      <td>0</td>\n",
       "      <td>sales</td>\n",
       "      <td>low</td>\n",
       "    </tr>\n",
       "  </tbody>\n",
       "</table>\n",
       "</div>"
      ],
      "text/plain": [
       "   satisfactoryLevel  lastEvaluation  numberOfProjects  avgMonthlyHours  \\\n",
       "0               0.38            0.53                 2              157   \n",
       "1               0.80            0.86                 5              262   \n",
       "2               0.11            0.88                 7              272   \n",
       "3               0.37            0.52                 2              159   \n",
       "4               0.41            0.50                 2              153   \n",
       "\n",
       "   timeSpent_company  workAccident  left  promotionInLast5years   dept  salary  \n",
       "0                  3             0     1                      0  sales     low  \n",
       "1                  6             0     1                      0  sales  medium  \n",
       "2                  4             0     1                      0  sales  medium  \n",
       "3                  3             0     1                      0  sales     low  \n",
       "4                  3             0     1                      0  sales     low  "
      ]
     },
     "execution_count": 12,
     "metadata": {},
     "output_type": "execute_result"
    }
   ],
   "source": [
    "df.head()"
   ]
  },
  {
   "cell_type": "code",
   "execution_count": 13,
   "metadata": {
    "colab": {
     "base_uri": "https://localhost:8080/"
    },
    "id": "QHtyciYg-zcH",
    "outputId": "cc95d5db-80ba-4be7-b49f-4a3b9c003fc7"
   },
   "outputs": [
    {
     "data": {
      "text/plain": [
       "(14999, 10)"
      ]
     },
     "execution_count": 13,
     "metadata": {},
     "output_type": "execute_result"
    }
   ],
   "source": [
    "# checking the shape of dataset (no of rows & no of cols)\n",
    "df.shape"
   ]
  },
  {
   "cell_type": "code",
   "execution_count": 14,
   "metadata": {
    "colab": {
     "base_uri": "https://localhost:8080/"
    },
    "id": "MjF4gbm5Wy1F",
    "outputId": "b1a01677-a8f2-484f-da93-998ae3f4340f"
   },
   "outputs": [
    {
     "data": {
      "text/plain": [
       "3008"
      ]
     },
     "execution_count": 14,
     "metadata": {},
     "output_type": "execute_result"
    }
   ],
   "source": [
    "# checking for duplicate values\n",
    "df.duplicated().sum()"
   ]
  },
  {
   "cell_type": "code",
   "execution_count": 15,
   "metadata": {},
   "outputs": [
    {
     "data": {
      "text/html": [
       "<div>\n",
       "<style scoped>\n",
       "    .dataframe tbody tr th:only-of-type {\n",
       "        vertical-align: middle;\n",
       "    }\n",
       "\n",
       "    .dataframe tbody tr th {\n",
       "        vertical-align: top;\n",
       "    }\n",
       "\n",
       "    .dataframe thead th {\n",
       "        text-align: right;\n",
       "    }\n",
       "</style>\n",
       "<table border=\"1\" class=\"dataframe\">\n",
       "  <thead>\n",
       "    <tr style=\"text-align: right;\">\n",
       "      <th></th>\n",
       "      <th>satisfactoryLevel</th>\n",
       "      <th>lastEvaluation</th>\n",
       "      <th>numberOfProjects</th>\n",
       "      <th>avgMonthlyHours</th>\n",
       "      <th>timeSpent_company</th>\n",
       "      <th>workAccident</th>\n",
       "      <th>left</th>\n",
       "      <th>promotionInLast5years</th>\n",
       "      <th>dept</th>\n",
       "      <th>salary</th>\n",
       "    </tr>\n",
       "  </thead>\n",
       "  <tbody>\n",
       "    <tr>\n",
       "      <th>263</th>\n",
       "      <td>0.46</td>\n",
       "      <td>0.57</td>\n",
       "      <td>2</td>\n",
       "      <td>139</td>\n",
       "      <td>3</td>\n",
       "      <td>0</td>\n",
       "      <td>1</td>\n",
       "      <td>0</td>\n",
       "      <td>sales</td>\n",
       "      <td>low</td>\n",
       "    </tr>\n",
       "    <tr>\n",
       "      <th>877</th>\n",
       "      <td>0.37</td>\n",
       "      <td>0.51</td>\n",
       "      <td>2</td>\n",
       "      <td>127</td>\n",
       "      <td>3</td>\n",
       "      <td>0</td>\n",
       "      <td>1</td>\n",
       "      <td>0</td>\n",
       "      <td>sales</td>\n",
       "      <td>medium</td>\n",
       "    </tr>\n",
       "    <tr>\n",
       "      <th>974</th>\n",
       "      <td>0.42</td>\n",
       "      <td>0.53</td>\n",
       "      <td>2</td>\n",
       "      <td>142</td>\n",
       "      <td>3</td>\n",
       "      <td>0</td>\n",
       "      <td>1</td>\n",
       "      <td>0</td>\n",
       "      <td>sales</td>\n",
       "      <td>low</td>\n",
       "    </tr>\n",
       "    <tr>\n",
       "      <th>1017</th>\n",
       "      <td>0.40</td>\n",
       "      <td>0.50</td>\n",
       "      <td>2</td>\n",
       "      <td>127</td>\n",
       "      <td>3</td>\n",
       "      <td>0</td>\n",
       "      <td>1</td>\n",
       "      <td>0</td>\n",
       "      <td>IT</td>\n",
       "      <td>low</td>\n",
       "    </tr>\n",
       "    <tr>\n",
       "      <th>1241</th>\n",
       "      <td>0.10</td>\n",
       "      <td>0.85</td>\n",
       "      <td>6</td>\n",
       "      <td>266</td>\n",
       "      <td>4</td>\n",
       "      <td>0</td>\n",
       "      <td>1</td>\n",
       "      <td>0</td>\n",
       "      <td>sales</td>\n",
       "      <td>low</td>\n",
       "    </tr>\n",
       "    <tr>\n",
       "      <th>...</th>\n",
       "      <td>...</td>\n",
       "      <td>...</td>\n",
       "      <td>...</td>\n",
       "      <td>...</td>\n",
       "      <td>...</td>\n",
       "      <td>...</td>\n",
       "      <td>...</td>\n",
       "      <td>...</td>\n",
       "      <td>...</td>\n",
       "      <td>...</td>\n",
       "    </tr>\n",
       "    <tr>\n",
       "      <th>14985</th>\n",
       "      <td>0.95</td>\n",
       "      <td>0.84</td>\n",
       "      <td>3</td>\n",
       "      <td>270</td>\n",
       "      <td>3</td>\n",
       "      <td>1</td>\n",
       "      <td>0</td>\n",
       "      <td>1</td>\n",
       "      <td>sales</td>\n",
       "      <td>medium</td>\n",
       "    </tr>\n",
       "    <tr>\n",
       "      <th>14987</th>\n",
       "      <td>0.37</td>\n",
       "      <td>0.45</td>\n",
       "      <td>2</td>\n",
       "      <td>126</td>\n",
       "      <td>3</td>\n",
       "      <td>0</td>\n",
       "      <td>1</td>\n",
       "      <td>0</td>\n",
       "      <td>support</td>\n",
       "      <td>medium</td>\n",
       "    </tr>\n",
       "    <tr>\n",
       "      <th>14988</th>\n",
       "      <td>0.43</td>\n",
       "      <td>0.57</td>\n",
       "      <td>2</td>\n",
       "      <td>157</td>\n",
       "      <td>3</td>\n",
       "      <td>0</td>\n",
       "      <td>1</td>\n",
       "      <td>0</td>\n",
       "      <td>sales</td>\n",
       "      <td>low</td>\n",
       "    </tr>\n",
       "    <tr>\n",
       "      <th>14993</th>\n",
       "      <td>0.61</td>\n",
       "      <td>0.89</td>\n",
       "      <td>3</td>\n",
       "      <td>242</td>\n",
       "      <td>10</td>\n",
       "      <td>0</td>\n",
       "      <td>0</td>\n",
       "      <td>0</td>\n",
       "      <td>sales</td>\n",
       "      <td>high</td>\n",
       "    </tr>\n",
       "    <tr>\n",
       "      <th>14994</th>\n",
       "      <td>0.11</td>\n",
       "      <td>0.85</td>\n",
       "      <td>7</td>\n",
       "      <td>275</td>\n",
       "      <td>4</td>\n",
       "      <td>0</td>\n",
       "      <td>1</td>\n",
       "      <td>0</td>\n",
       "      <td>support</td>\n",
       "      <td>medium</td>\n",
       "    </tr>\n",
       "  </tbody>\n",
       "</table>\n",
       "<p>3008 rows × 10 columns</p>\n",
       "</div>"
      ],
      "text/plain": [
       "       satisfactoryLevel  lastEvaluation  numberOfProjects  avgMonthlyHours  \\\n",
       "263                 0.46            0.57                 2              139   \n",
       "877                 0.37            0.51                 2              127   \n",
       "974                 0.42            0.53                 2              142   \n",
       "1017                0.40            0.50                 2              127   \n",
       "1241                0.10            0.85                 6              266   \n",
       "...                  ...             ...               ...              ...   \n",
       "14985               0.95            0.84                 3              270   \n",
       "14987               0.37            0.45                 2              126   \n",
       "14988               0.43            0.57                 2              157   \n",
       "14993               0.61            0.89                 3              242   \n",
       "14994               0.11            0.85                 7              275   \n",
       "\n",
       "       timeSpent_company  workAccident  left  promotionInLast5years     dept  \\\n",
       "263                    3             0     1                      0    sales   \n",
       "877                    3             0     1                      0    sales   \n",
       "974                    3             0     1                      0    sales   \n",
       "1017                   3             0     1                      0       IT   \n",
       "1241                   4             0     1                      0    sales   \n",
       "...                  ...           ...   ...                    ...      ...   \n",
       "14985                  3             1     0                      1    sales   \n",
       "14987                  3             0     1                      0  support   \n",
       "14988                  3             0     1                      0    sales   \n",
       "14993                 10             0     0                      0    sales   \n",
       "14994                  4             0     1                      0  support   \n",
       "\n",
       "       salary  \n",
       "263       low  \n",
       "877    medium  \n",
       "974       low  \n",
       "1017      low  \n",
       "1241      low  \n",
       "...       ...  \n",
       "14985  medium  \n",
       "14987  medium  \n",
       "14988     low  \n",
       "14993    high  \n",
       "14994  medium  \n",
       "\n",
       "[3008 rows x 10 columns]"
      ]
     },
     "execution_count": 15,
     "metadata": {},
     "output_type": "execute_result"
    }
   ],
   "source": [
    "#to find the dupliacate values\n",
    "dup=df[df.duplicated(keep='first')]\n",
    "dup"
   ]
  },
  {
   "cell_type": "code",
   "execution_count": 16,
   "metadata": {
    "id": "S8okTeejYbGo"
   },
   "outputs": [
    {
     "data": {
      "text/html": [
       "<div>\n",
       "<style scoped>\n",
       "    .dataframe tbody tr th:only-of-type {\n",
       "        vertical-align: middle;\n",
       "    }\n",
       "\n",
       "    .dataframe tbody tr th {\n",
       "        vertical-align: top;\n",
       "    }\n",
       "\n",
       "    .dataframe thead th {\n",
       "        text-align: right;\n",
       "    }\n",
       "</style>\n",
       "<table border=\"1\" class=\"dataframe\">\n",
       "  <thead>\n",
       "    <tr style=\"text-align: right;\">\n",
       "      <th></th>\n",
       "      <th>satisfactoryLevel</th>\n",
       "      <th>lastEvaluation</th>\n",
       "      <th>numberOfProjects</th>\n",
       "      <th>avgMonthlyHours</th>\n",
       "      <th>timeSpent_company</th>\n",
       "      <th>workAccident</th>\n",
       "      <th>left</th>\n",
       "      <th>promotionInLast5years</th>\n",
       "      <th>dept</th>\n",
       "      <th>salary</th>\n",
       "    </tr>\n",
       "  </thead>\n",
       "  <tbody>\n",
       "    <tr>\n",
       "      <th>0</th>\n",
       "      <td>0.38</td>\n",
       "      <td>0.53</td>\n",
       "      <td>2</td>\n",
       "      <td>157</td>\n",
       "      <td>3</td>\n",
       "      <td>0</td>\n",
       "      <td>1</td>\n",
       "      <td>0</td>\n",
       "      <td>sales</td>\n",
       "      <td>low</td>\n",
       "    </tr>\n",
       "    <tr>\n",
       "      <th>1</th>\n",
       "      <td>0.80</td>\n",
       "      <td>0.86</td>\n",
       "      <td>5</td>\n",
       "      <td>262</td>\n",
       "      <td>6</td>\n",
       "      <td>0</td>\n",
       "      <td>1</td>\n",
       "      <td>0</td>\n",
       "      <td>sales</td>\n",
       "      <td>medium</td>\n",
       "    </tr>\n",
       "    <tr>\n",
       "      <th>2</th>\n",
       "      <td>0.11</td>\n",
       "      <td>0.88</td>\n",
       "      <td>7</td>\n",
       "      <td>272</td>\n",
       "      <td>4</td>\n",
       "      <td>0</td>\n",
       "      <td>1</td>\n",
       "      <td>0</td>\n",
       "      <td>sales</td>\n",
       "      <td>medium</td>\n",
       "    </tr>\n",
       "    <tr>\n",
       "      <th>3</th>\n",
       "      <td>0.37</td>\n",
       "      <td>0.52</td>\n",
       "      <td>2</td>\n",
       "      <td>159</td>\n",
       "      <td>3</td>\n",
       "      <td>0</td>\n",
       "      <td>1</td>\n",
       "      <td>0</td>\n",
       "      <td>sales</td>\n",
       "      <td>low</td>\n",
       "    </tr>\n",
       "    <tr>\n",
       "      <th>4</th>\n",
       "      <td>0.41</td>\n",
       "      <td>0.50</td>\n",
       "      <td>2</td>\n",
       "      <td>153</td>\n",
       "      <td>3</td>\n",
       "      <td>0</td>\n",
       "      <td>1</td>\n",
       "      <td>0</td>\n",
       "      <td>sales</td>\n",
       "      <td>low</td>\n",
       "    </tr>\n",
       "    <tr>\n",
       "      <th>...</th>\n",
       "      <td>...</td>\n",
       "      <td>...</td>\n",
       "      <td>...</td>\n",
       "      <td>...</td>\n",
       "      <td>...</td>\n",
       "      <td>...</td>\n",
       "      <td>...</td>\n",
       "      <td>...</td>\n",
       "      <td>...</td>\n",
       "      <td>...</td>\n",
       "    </tr>\n",
       "    <tr>\n",
       "      <th>14992</th>\n",
       "      <td>0.30</td>\n",
       "      <td>0.88</td>\n",
       "      <td>5</td>\n",
       "      <td>245</td>\n",
       "      <td>4</td>\n",
       "      <td>0</td>\n",
       "      <td>0</td>\n",
       "      <td>0</td>\n",
       "      <td>hr</td>\n",
       "      <td>low</td>\n",
       "    </tr>\n",
       "    <tr>\n",
       "      <th>14995</th>\n",
       "      <td>0.99</td>\n",
       "      <td>0.83</td>\n",
       "      <td>4</td>\n",
       "      <td>274</td>\n",
       "      <td>2</td>\n",
       "      <td>0</td>\n",
       "      <td>0</td>\n",
       "      <td>0</td>\n",
       "      <td>sales</td>\n",
       "      <td>low</td>\n",
       "    </tr>\n",
       "    <tr>\n",
       "      <th>14996</th>\n",
       "      <td>0.72</td>\n",
       "      <td>0.72</td>\n",
       "      <td>4</td>\n",
       "      <td>175</td>\n",
       "      <td>4</td>\n",
       "      <td>0</td>\n",
       "      <td>0</td>\n",
       "      <td>0</td>\n",
       "      <td>technical</td>\n",
       "      <td>low</td>\n",
       "    </tr>\n",
       "    <tr>\n",
       "      <th>14997</th>\n",
       "      <td>0.24</td>\n",
       "      <td>0.91</td>\n",
       "      <td>5</td>\n",
       "      <td>177</td>\n",
       "      <td>5</td>\n",
       "      <td>0</td>\n",
       "      <td>0</td>\n",
       "      <td>0</td>\n",
       "      <td>sales</td>\n",
       "      <td>low</td>\n",
       "    </tr>\n",
       "    <tr>\n",
       "      <th>14998</th>\n",
       "      <td>0.77</td>\n",
       "      <td>0.83</td>\n",
       "      <td>6</td>\n",
       "      <td>271</td>\n",
       "      <td>3</td>\n",
       "      <td>0</td>\n",
       "      <td>0</td>\n",
       "      <td>0</td>\n",
       "      <td>support</td>\n",
       "      <td>low</td>\n",
       "    </tr>\n",
       "  </tbody>\n",
       "</table>\n",
       "<p>11991 rows × 10 columns</p>\n",
       "</div>"
      ],
      "text/plain": [
       "       satisfactoryLevel  lastEvaluation  numberOfProjects  avgMonthlyHours  \\\n",
       "0                   0.38            0.53                 2              157   \n",
       "1                   0.80            0.86                 5              262   \n",
       "2                   0.11            0.88                 7              272   \n",
       "3                   0.37            0.52                 2              159   \n",
       "4                   0.41            0.50                 2              153   \n",
       "...                  ...             ...               ...              ...   \n",
       "14992               0.30            0.88                 5              245   \n",
       "14995               0.99            0.83                 4              274   \n",
       "14996               0.72            0.72                 4              175   \n",
       "14997               0.24            0.91                 5              177   \n",
       "14998               0.77            0.83                 6              271   \n",
       "\n",
       "       timeSpent_company  workAccident  left  promotionInLast5years  \\\n",
       "0                      3             0     1                      0   \n",
       "1                      6             0     1                      0   \n",
       "2                      4             0     1                      0   \n",
       "3                      3             0     1                      0   \n",
       "4                      3             0     1                      0   \n",
       "...                  ...           ...   ...                    ...   \n",
       "14992                  4             0     0                      0   \n",
       "14995                  2             0     0                      0   \n",
       "14996                  4             0     0                      0   \n",
       "14997                  5             0     0                      0   \n",
       "14998                  3             0     0                      0   \n",
       "\n",
       "            dept  salary  \n",
       "0          sales     low  \n",
       "1          sales  medium  \n",
       "2          sales  medium  \n",
       "3          sales     low  \n",
       "4          sales     low  \n",
       "...          ...     ...  \n",
       "14992         hr     low  \n",
       "14995      sales     low  \n",
       "14996  technical     low  \n",
       "14997      sales     low  \n",
       "14998    support     low  \n",
       "\n",
       "[11991 rows x 10 columns]"
      ]
     },
     "execution_count": 16,
     "metadata": {},
     "output_type": "execute_result"
    }
   ],
   "source": [
    "df=df.drop_duplicates(keep='first')\n",
    "df"
   ]
  },
  {
   "cell_type": "code",
   "execution_count": 17,
   "metadata": {
    "colab": {
     "base_uri": "https://localhost:8080/"
    },
    "id": "KfsmbntDYwom",
    "outputId": "c180efe5-5578-491d-fb9b-bd7720cfbff6",
    "scrolled": true
   },
   "outputs": [
    {
     "data": {
      "text/plain": [
       "(11991, 10)"
      ]
     },
     "execution_count": 17,
     "metadata": {},
     "output_type": "execute_result"
    }
   ],
   "source": [
    "df.shape"
   ]
  },
  {
   "cell_type": "code",
   "execution_count": 18,
   "metadata": {
    "scrolled": true
   },
   "outputs": [
    {
     "data": {
      "text/plain": [
       "satisfactoryLevel        0\n",
       "lastEvaluation           0\n",
       "numberOfProjects         0\n",
       "avgMonthlyHours          0\n",
       "timeSpent_company        0\n",
       "workAccident             0\n",
       "left                     0\n",
       "promotionInLast5years    0\n",
       "dept                     0\n",
       "salary                   0\n",
       "dtype: int64"
      ]
     },
     "execution_count": 18,
     "metadata": {},
     "output_type": "execute_result"
    }
   ],
   "source": [
    "# to check the null value\n",
    "df.isnull().sum()"
   ]
  },
  {
   "cell_type": "code",
   "execution_count": 19,
   "metadata": {},
   "outputs": [],
   "source": [
    "from scipy.constants import pi"
   ]
  },
  {
   "cell_type": "code",
   "execution_count": 20,
   "metadata": {
    "scrolled": true
   },
   "outputs": [
    {
     "name": "stdout",
     "output_type": "stream",
     "text": [
      "3.141592653589793\n"
     ]
    }
   ],
   "source": [
    "print(pi)"
   ]
  },
  {
   "cell_type": "code",
   "execution_count": 21,
   "metadata": {
    "scrolled": true
   },
   "outputs": [
    {
     "data": {
      "text/html": [
       "<div>\n",
       "<style scoped>\n",
       "    .dataframe tbody tr th:only-of-type {\n",
       "        vertical-align: middle;\n",
       "    }\n",
       "\n",
       "    .dataframe tbody tr th {\n",
       "        vertical-align: top;\n",
       "    }\n",
       "\n",
       "    .dataframe thead th {\n",
       "        text-align: right;\n",
       "    }\n",
       "</style>\n",
       "<table border=\"1\" class=\"dataframe\">\n",
       "  <thead>\n",
       "    <tr style=\"text-align: right;\">\n",
       "      <th></th>\n",
       "      <th>satisfactoryLevel</th>\n",
       "      <th>lastEvaluation</th>\n",
       "      <th>numberOfProjects</th>\n",
       "      <th>avgMonthlyHours</th>\n",
       "      <th>timeSpent_company</th>\n",
       "      <th>workAccident</th>\n",
       "      <th>left</th>\n",
       "      <th>promotionInLast5years</th>\n",
       "    </tr>\n",
       "  </thead>\n",
       "  <tbody>\n",
       "    <tr>\n",
       "      <th>count</th>\n",
       "      <td>11991.000000</td>\n",
       "      <td>11991.000000</td>\n",
       "      <td>11991.000000</td>\n",
       "      <td>11991.000000</td>\n",
       "      <td>11991.000000</td>\n",
       "      <td>11991.000000</td>\n",
       "      <td>11991.000000</td>\n",
       "      <td>11991.000000</td>\n",
       "    </tr>\n",
       "    <tr>\n",
       "      <th>mean</th>\n",
       "      <td>0.629658</td>\n",
       "      <td>0.716683</td>\n",
       "      <td>3.802852</td>\n",
       "      <td>200.473522</td>\n",
       "      <td>3.364857</td>\n",
       "      <td>0.154282</td>\n",
       "      <td>0.166041</td>\n",
       "      <td>0.016929</td>\n",
       "    </tr>\n",
       "    <tr>\n",
       "      <th>std</th>\n",
       "      <td>0.241070</td>\n",
       "      <td>0.168343</td>\n",
       "      <td>1.163238</td>\n",
       "      <td>48.727813</td>\n",
       "      <td>1.330240</td>\n",
       "      <td>0.361234</td>\n",
       "      <td>0.372133</td>\n",
       "      <td>0.129012</td>\n",
       "    </tr>\n",
       "    <tr>\n",
       "      <th>min</th>\n",
       "      <td>0.090000</td>\n",
       "      <td>0.360000</td>\n",
       "      <td>2.000000</td>\n",
       "      <td>96.000000</td>\n",
       "      <td>2.000000</td>\n",
       "      <td>0.000000</td>\n",
       "      <td>0.000000</td>\n",
       "      <td>0.000000</td>\n",
       "    </tr>\n",
       "    <tr>\n",
       "      <th>25%</th>\n",
       "      <td>0.480000</td>\n",
       "      <td>0.570000</td>\n",
       "      <td>3.000000</td>\n",
       "      <td>157.000000</td>\n",
       "      <td>3.000000</td>\n",
       "      <td>0.000000</td>\n",
       "      <td>0.000000</td>\n",
       "      <td>0.000000</td>\n",
       "    </tr>\n",
       "    <tr>\n",
       "      <th>50%</th>\n",
       "      <td>0.660000</td>\n",
       "      <td>0.720000</td>\n",
       "      <td>4.000000</td>\n",
       "      <td>200.000000</td>\n",
       "      <td>3.000000</td>\n",
       "      <td>0.000000</td>\n",
       "      <td>0.000000</td>\n",
       "      <td>0.000000</td>\n",
       "    </tr>\n",
       "    <tr>\n",
       "      <th>75%</th>\n",
       "      <td>0.820000</td>\n",
       "      <td>0.860000</td>\n",
       "      <td>5.000000</td>\n",
       "      <td>243.000000</td>\n",
       "      <td>4.000000</td>\n",
       "      <td>0.000000</td>\n",
       "      <td>0.000000</td>\n",
       "      <td>0.000000</td>\n",
       "    </tr>\n",
       "    <tr>\n",
       "      <th>max</th>\n",
       "      <td>1.000000</td>\n",
       "      <td>1.000000</td>\n",
       "      <td>7.000000</td>\n",
       "      <td>310.000000</td>\n",
       "      <td>10.000000</td>\n",
       "      <td>1.000000</td>\n",
       "      <td>1.000000</td>\n",
       "      <td>1.000000</td>\n",
       "    </tr>\n",
       "  </tbody>\n",
       "</table>\n",
       "</div>"
      ],
      "text/plain": [
       "       satisfactoryLevel  lastEvaluation  numberOfProjects  avgMonthlyHours  \\\n",
       "count       11991.000000    11991.000000      11991.000000     11991.000000   \n",
       "mean            0.629658        0.716683          3.802852       200.473522   \n",
       "std             0.241070        0.168343          1.163238        48.727813   \n",
       "min             0.090000        0.360000          2.000000        96.000000   \n",
       "25%             0.480000        0.570000          3.000000       157.000000   \n",
       "50%             0.660000        0.720000          4.000000       200.000000   \n",
       "75%             0.820000        0.860000          5.000000       243.000000   \n",
       "max             1.000000        1.000000          7.000000       310.000000   \n",
       "\n",
       "       timeSpent_company  workAccident          left  promotionInLast5years  \n",
       "count       11991.000000  11991.000000  11991.000000           11991.000000  \n",
       "mean            3.364857      0.154282      0.166041               0.016929  \n",
       "std             1.330240      0.361234      0.372133               0.129012  \n",
       "min             2.000000      0.000000      0.000000               0.000000  \n",
       "25%             3.000000      0.000000      0.000000               0.000000  \n",
       "50%             3.000000      0.000000      0.000000               0.000000  \n",
       "75%             4.000000      0.000000      0.000000               0.000000  \n",
       "max            10.000000      1.000000      1.000000               1.000000  "
      ]
     },
     "execution_count": 21,
     "metadata": {},
     "output_type": "execute_result"
    }
   ],
   "source": [
    "# Descriptive statistics\n",
    "df.describe()"
   ]
  },
  {
   "cell_type": "code",
   "execution_count": null,
   "metadata": {},
   "outputs": [],
   "source": [
    "df.describe(include='all')"
   ]
  },
  {
   "cell_type": "markdown",
   "metadata": {
    "id": "K4VRswzHlpnl"
   },
   "source": [
    "Normality Test\n"
   ]
  },
  {
   "cell_type": "markdown",
   "metadata": {
    "id": "jbxgfECV8ZXm"
   },
   "source": [
    "Check whether the data is normally distributed or not in satisfactorylevel column using shapiro-wilk test"
   ]
  },
  {
   "cell_type": "code",
   "execution_count": 8,
   "metadata": {
    "colab": {
     "base_uri": "https://localhost:8080/",
     "height": 320
    },
    "id": "QNEwYqvBll6P",
    "outputId": "a6d1bfea-1f1d-4a9b-d46c-6bf170b0e3d8",
    "scrolled": true
   },
   "outputs": [
    {
     "data": {
      "image/png": "[encoded data removed]",
      "text/plain": [
       "<Figure size 1000x500 with 1 Axes>"
      ]
     },
     "metadata": {},
     "output_type": "display_data"
    }
   ],
   "source": [
    "# plotting histogram to visualize the distribution of data\n",
    "plt.figure(figsize=(10,5))\n",
    "plt.hist(df[\"satisfactoryLevel\"])\n",
    "plt.show()"
   ]
  },
  {
   "cell_type": "code",
   "execution_count": 12,
   "metadata": {
    "scrolled": true
   },
   "outputs": [
    {
     "name": "stderr",
     "output_type": "stream",
     "text": [
      "C:\\Users\\Reliable\\AppData\\Local\\Temp\\ipykernel_3448\\864860919.py:1: UserWarning: \n",
      "\n",
      "`distplot` is a deprecated function and will be removed in seaborn v0.14.0.\n",
      "\n",
      "Please adapt your code to use either `displot` (a figure-level function with\n",
      "similar flexibility) or `histplot` (an axes-level function for histograms).\n",
      "\n",
      "For a guide to updating your code to use the new functions, please see\n",
      "https://gist.github.com/mwaskom/de44147ed2974457ad6372750bbe5751\n",
      "\n",
      "  sns.distplot(df[\"satisfactoryLevel\"])\n"
     ]
    },
    {
     "data": {
      "text/plain": [
       "<Axes: xlabel='satisfactoryLevel', ylabel='Density'>"
      ]
     },
     "execution_count": 12,
     "metadata": {},
     "output_type": "execute_result"
    },
    {
     "data": {
      "image/png": "[encoded data removed]",
      "text/plain": [
       "<Figure size 640x480 with 1 Axes>"
      ]
     },
     "metadata": {},
     "output_type": "display_data"
    }
   ],
   "source": [
    "sns.distplot(df[\"satisfactoryLevel\"])"
   ]
  },
  {
   "cell_type": "code",
   "execution_count": 24,
   "metadata": {},
   "outputs": [
    {
     "data": {
      "text/plain": [
       "<Axes: xlabel='satisfactoryLevel', ylabel='Density'>"
      ]
     },
     "execution_count": 24,
     "metadata": {},
     "output_type": "execute_result"
    },
    {
     "data": {
      "image/png": "[encoded data removed]",
      "text/plain": [
       "<Figure size 432x288 with 1 Axes>"
      ]
     },
     "metadata": {
      "needs_background": "light"
     },
     "output_type": "display_data"
    }
   ],
   "source": [
    "sns.kdeplot(x='satisfactoryLevel', data=df)\n"
   ]
  },
  {
   "cell_type": "code",
   "execution_count": null,
   "metadata": {
    "id": "eL_DGnpZmxT7"
   },
   "outputs": [],
   "source": [
    "# h0 - data is normally distributed\n",
    "# h1 - data is not normally distributed"
   ]
  },
  {
   "cell_type": "code",
   "execution_count": 25,
   "metadata": {
    "id": "ec47ogYym8K1"
   },
   "outputs": [],
   "source": [
    "from scipy.stats import shapiro"
   ]
  },
  {
   "cell_type": "code",
   "execution_count": 28,
   "metadata": {
    "colab": {
     "base_uri": "https://localhost:8080/"
    },
    "id": "hOeP6jiem8Ol",
    "outputId": "47ece2f7-8455-45fc-d2cd-c551f3a56009"
   },
   "outputs": [],
   "source": [
    "stat,p_value=shapiro(df[\"satisfactoryLevel\"])"
   ]
  },
  {
   "cell_type": "code",
   "execution_count": 29,
   "metadata": {
    "colab": {
     "base_uri": "https://localhost:8080/"
    },
    "id": "6wnivCa4nYQ1",
    "outputId": "8ee906d1-f6f7-4332-9b76-96e2d505e867",
    "scrolled": true
   },
   "outputs": [
    {
     "name": "stdout",
     "output_type": "stream",
     "text": [
      "0.0\n"
     ]
    }
   ],
   "source": [
    "print(p_value)"
   ]
  },
  {
   "cell_type": "code",
   "execution_count": 30,
   "metadata": {},
   "outputs": [
    {
     "name": "stdout",
     "output_type": "stream",
     "text": [
      "0.9526869654655457\n"
     ]
    }
   ],
   "source": [
    "print(stat)"
   ]
  },
  {
   "cell_type": "code",
   "execution_count": null,
   "metadata": {
    "id": "a4vcmF-AniDU"
   },
   "outputs": [],
   "source": [
    "# p value is less than 0.05 reject null hypothesis, data is not normally distributed"
   ]
  },
  {
   "cell_type": "code",
   "execution_count": 31,
   "metadata": {},
   "outputs": [
    {
     "data": {
      "text/html": [
       "<div>\n",
       "<style scoped>\n",
       "    .dataframe tbody tr th:only-of-type {\n",
       "        vertical-align: middle;\n",
       "    }\n",
       "\n",
       "    .dataframe tbody tr th {\n",
       "        vertical-align: top;\n",
       "    }\n",
       "\n",
       "    .dataframe thead th {\n",
       "        text-align: right;\n",
       "    }\n",
       "</style>\n",
       "<table border=\"1\" class=\"dataframe\">\n",
       "  <thead>\n",
       "    <tr style=\"text-align: right;\">\n",
       "      <th></th>\n",
       "      <th>satisfactoryLevel</th>\n",
       "      <th>lastEvaluation</th>\n",
       "      <th>numberOfProjects</th>\n",
       "      <th>avgMonthlyHours</th>\n",
       "      <th>timeSpent_company</th>\n",
       "      <th>workAccident</th>\n",
       "      <th>left</th>\n",
       "      <th>promotionInLast5years</th>\n",
       "      <th>dept</th>\n",
       "      <th>salary</th>\n",
       "    </tr>\n",
       "  </thead>\n",
       "  <tbody>\n",
       "    <tr>\n",
       "      <th>0</th>\n",
       "      <td>0.38</td>\n",
       "      <td>0.53</td>\n",
       "      <td>2</td>\n",
       "      <td>157</td>\n",
       "      <td>3</td>\n",
       "      <td>0</td>\n",
       "      <td>1</td>\n",
       "      <td>0</td>\n",
       "      <td>sales</td>\n",
       "      <td>low</td>\n",
       "    </tr>\n",
       "    <tr>\n",
       "      <th>1</th>\n",
       "      <td>0.80</td>\n",
       "      <td>0.86</td>\n",
       "      <td>5</td>\n",
       "      <td>262</td>\n",
       "      <td>6</td>\n",
       "      <td>0</td>\n",
       "      <td>1</td>\n",
       "      <td>0</td>\n",
       "      <td>sales</td>\n",
       "      <td>medium</td>\n",
       "    </tr>\n",
       "    <tr>\n",
       "      <th>2</th>\n",
       "      <td>0.11</td>\n",
       "      <td>0.88</td>\n",
       "      <td>7</td>\n",
       "      <td>272</td>\n",
       "      <td>4</td>\n",
       "      <td>0</td>\n",
       "      <td>1</td>\n",
       "      <td>0</td>\n",
       "      <td>sales</td>\n",
       "      <td>medium</td>\n",
       "    </tr>\n",
       "    <tr>\n",
       "      <th>3</th>\n",
       "      <td>0.37</td>\n",
       "      <td>0.52</td>\n",
       "      <td>2</td>\n",
       "      <td>159</td>\n",
       "      <td>3</td>\n",
       "      <td>0</td>\n",
       "      <td>1</td>\n",
       "      <td>0</td>\n",
       "      <td>sales</td>\n",
       "      <td>low</td>\n",
       "    </tr>\n",
       "    <tr>\n",
       "      <th>4</th>\n",
       "      <td>0.41</td>\n",
       "      <td>0.50</td>\n",
       "      <td>2</td>\n",
       "      <td>153</td>\n",
       "      <td>3</td>\n",
       "      <td>0</td>\n",
       "      <td>1</td>\n",
       "      <td>0</td>\n",
       "      <td>sales</td>\n",
       "      <td>low</td>\n",
       "    </tr>\n",
       "    <tr>\n",
       "      <th>...</th>\n",
       "      <td>...</td>\n",
       "      <td>...</td>\n",
       "      <td>...</td>\n",
       "      <td>...</td>\n",
       "      <td>...</td>\n",
       "      <td>...</td>\n",
       "      <td>...</td>\n",
       "      <td>...</td>\n",
       "      <td>...</td>\n",
       "      <td>...</td>\n",
       "    </tr>\n",
       "    <tr>\n",
       "      <th>14992</th>\n",
       "      <td>0.30</td>\n",
       "      <td>0.88</td>\n",
       "      <td>5</td>\n",
       "      <td>245</td>\n",
       "      <td>4</td>\n",
       "      <td>0</td>\n",
       "      <td>0</td>\n",
       "      <td>0</td>\n",
       "      <td>hr</td>\n",
       "      <td>low</td>\n",
       "    </tr>\n",
       "    <tr>\n",
       "      <th>14995</th>\n",
       "      <td>0.99</td>\n",
       "      <td>0.83</td>\n",
       "      <td>4</td>\n",
       "      <td>274</td>\n",
       "      <td>2</td>\n",
       "      <td>0</td>\n",
       "      <td>0</td>\n",
       "      <td>0</td>\n",
       "      <td>sales</td>\n",
       "      <td>low</td>\n",
       "    </tr>\n",
       "    <tr>\n",
       "      <th>14996</th>\n",
       "      <td>0.72</td>\n",
       "      <td>0.72</td>\n",
       "      <td>4</td>\n",
       "      <td>175</td>\n",
       "      <td>4</td>\n",
       "      <td>0</td>\n",
       "      <td>0</td>\n",
       "      <td>0</td>\n",
       "      <td>technical</td>\n",
       "      <td>low</td>\n",
       "    </tr>\n",
       "    <tr>\n",
       "      <th>14997</th>\n",
       "      <td>0.24</td>\n",
       "      <td>0.91</td>\n",
       "      <td>5</td>\n",
       "      <td>177</td>\n",
       "      <td>5</td>\n",
       "      <td>0</td>\n",
       "      <td>0</td>\n",
       "      <td>0</td>\n",
       "      <td>sales</td>\n",
       "      <td>low</td>\n",
       "    </tr>\n",
       "    <tr>\n",
       "      <th>14998</th>\n",
       "      <td>0.77</td>\n",
       "      <td>0.83</td>\n",
       "      <td>6</td>\n",
       "      <td>271</td>\n",
       "      <td>3</td>\n",
       "      <td>0</td>\n",
       "      <td>0</td>\n",
       "      <td>0</td>\n",
       "      <td>support</td>\n",
       "      <td>low</td>\n",
       "    </tr>\n",
       "  </tbody>\n",
       "</table>\n",
       "<p>11991 rows × 10 columns</p>\n",
       "</div>"
      ],
      "text/plain": [
       "       satisfactoryLevel  lastEvaluation  numberOfProjects  avgMonthlyHours  \\\n",
       "0                   0.38            0.53                 2              157   \n",
       "1                   0.80            0.86                 5              262   \n",
       "2                   0.11            0.88                 7              272   \n",
       "3                   0.37            0.52                 2              159   \n",
       "4                   0.41            0.50                 2              153   \n",
       "...                  ...             ...               ...              ...   \n",
       "14992               0.30            0.88                 5              245   \n",
       "14995               0.99            0.83                 4              274   \n",
       "14996               0.72            0.72                 4              175   \n",
       "14997               0.24            0.91                 5              177   \n",
       "14998               0.77            0.83                 6              271   \n",
       "\n",
       "       timeSpent_company  workAccident  left  promotionInLast5years  \\\n",
       "0                      3             0     1                      0   \n",
       "1                      6             0     1                      0   \n",
       "2                      4             0     1                      0   \n",
       "3                      3             0     1                      0   \n",
       "4                      3             0     1                      0   \n",
       "...                  ...           ...   ...                    ...   \n",
       "14992                  4             0     0                      0   \n",
       "14995                  2             0     0                      0   \n",
       "14996                  4             0     0                      0   \n",
       "14997                  5             0     0                      0   \n",
       "14998                  3             0     0                      0   \n",
       "\n",
       "            dept  salary  \n",
       "0          sales     low  \n",
       "1          sales  medium  \n",
       "2          sales  medium  \n",
       "3          sales     low  \n",
       "4          sales     low  \n",
       "...          ...     ...  \n",
       "14992         hr     low  \n",
       "14995      sales     low  \n",
       "14996  technical     low  \n",
       "14997      sales     low  \n",
       "14998    support     low  \n",
       "\n",
       "[11991 rows x 10 columns]"
      ]
     },
     "execution_count": 31,
     "metadata": {},
     "output_type": "execute_result"
    }
   ],
   "source": [
    "df"
   ]
  },
  {
   "cell_type": "code",
   "execution_count": 32,
   "metadata": {
    "colab": {
     "base_uri": "https://localhost:8080/"
    },
    "id": "i8ocOPCyYOX-",
    "outputId": "261ed63a-b810-4a4d-ff34-48b94595a2dc"
   },
   "outputs": [
    {
     "data": {
      "text/plain": [
       "array(['low', 'medium', 'high'], dtype=object)"
      ]
     },
     "execution_count": 32,
     "metadata": {},
     "output_type": "execute_result"
    }
   ],
   "source": [
    "# salary is categorical data\n",
    "df[\"salary\"].unique()"
   ]
  },
  {
   "cell_type": "code",
   "execution_count": 33,
   "metadata": {},
   "outputs": [
    {
     "data": {
      "text/plain": [
       "array(['sales', 'accounting', 'hr', 'technical', 'support', 'IT',\n",
       "       'product_mng', 'marketing', 'management', 'RandD'], dtype=object)"
      ]
     },
     "execution_count": 33,
     "metadata": {},
     "output_type": "execute_result"
    }
   ],
   "source": [
    "df['dept'].unique()"
   ]
  },
  {
   "cell_type": "code",
   "execution_count": 35,
   "metadata": {},
   "outputs": [],
   "source": [
    "df1=df"
   ]
  },
  {
   "cell_type": "code",
   "execution_count": 36,
   "metadata": {
    "id": "iFrU-9-yYwzQ",
    "scrolled": true
   },
   "outputs": [
    {
     "name": "stderr",
     "output_type": "stream",
     "text": [
      "C:\\Users\\Dell\\AppData\\Local\\Temp\\ipykernel_3712\\3165276589.py:4: SettingWithCopyWarning: \n",
      "A value is trying to be set on a copy of a slice from a DataFrame.\n",
      "Try using .loc[row_indexer,col_indexer] = value instead\n",
      "\n",
      "See the caveats in the documentation: https://pandas.pydata.org/pandas-docs/stable/user_guide/indexing.html#returning-a-view-versus-a-copy\n",
      "  df1[\"salary\"]=l1.fit_transform(df1[\"salary\"])\n"
     ]
    }
   ],
   "source": [
    "# Converting the cat data into num, using Label Encoder \n",
    "from sklearn.preprocessing import LabelEncoder\n",
    "l1=LabelEncoder()\n",
    "df1[\"salary\"]=l1.fit_transform(df1[\"salary\"])  \n",
    " # fit()-> input the data\n",
    " # transform()->to apply the changes   \n",
    " # fit_transform()-> data will be inputted and necessary canges will be updated onto the object\n"
   ]
  },
  {
   "cell_type": "code",
   "execution_count": 37,
   "metadata": {
    "colab": {
     "base_uri": "https://localhost:8080/",
     "height": 270
    },
    "id": "KLwWtA8bYw8r",
    "outputId": "4e8c6c88-efec-4980-97e4-ad7f46cb0103",
    "scrolled": false
   },
   "outputs": [
    {
     "data": {
      "text/html": [
       "<div>\n",
       "<style scoped>\n",
       "    .dataframe tbody tr th:only-of-type {\n",
       "        vertical-align: middle;\n",
       "    }\n",
       "\n",
       "    .dataframe tbody tr th {\n",
       "        vertical-align: top;\n",
       "    }\n",
       "\n",
       "    .dataframe thead th {\n",
       "        text-align: right;\n",
       "    }\n",
       "</style>\n",
       "<table border=\"1\" class=\"dataframe\">\n",
       "  <thead>\n",
       "    <tr style=\"text-align: right;\">\n",
       "      <th></th>\n",
       "      <th>satisfactoryLevel</th>\n",
       "      <th>lastEvaluation</th>\n",
       "      <th>numberOfProjects</th>\n",
       "      <th>avgMonthlyHours</th>\n",
       "      <th>timeSpent_company</th>\n",
       "      <th>workAccident</th>\n",
       "      <th>left</th>\n",
       "      <th>promotionInLast5years</th>\n",
       "      <th>dept</th>\n",
       "      <th>salary</th>\n",
       "    </tr>\n",
       "  </thead>\n",
       "  <tbody>\n",
       "    <tr>\n",
       "      <th>0</th>\n",
       "      <td>0.38</td>\n",
       "      <td>0.53</td>\n",
       "      <td>2</td>\n",
       "      <td>157</td>\n",
       "      <td>3</td>\n",
       "      <td>0</td>\n",
       "      <td>1</td>\n",
       "      <td>0</td>\n",
       "      <td>sales</td>\n",
       "      <td>1</td>\n",
       "    </tr>\n",
       "    <tr>\n",
       "      <th>1</th>\n",
       "      <td>0.80</td>\n",
       "      <td>0.86</td>\n",
       "      <td>5</td>\n",
       "      <td>262</td>\n",
       "      <td>6</td>\n",
       "      <td>0</td>\n",
       "      <td>1</td>\n",
       "      <td>0</td>\n",
       "      <td>sales</td>\n",
       "      <td>2</td>\n",
       "    </tr>\n",
       "    <tr>\n",
       "      <th>2</th>\n",
       "      <td>0.11</td>\n",
       "      <td>0.88</td>\n",
       "      <td>7</td>\n",
       "      <td>272</td>\n",
       "      <td>4</td>\n",
       "      <td>0</td>\n",
       "      <td>1</td>\n",
       "      <td>0</td>\n",
       "      <td>sales</td>\n",
       "      <td>2</td>\n",
       "    </tr>\n",
       "    <tr>\n",
       "      <th>3</th>\n",
       "      <td>0.37</td>\n",
       "      <td>0.52</td>\n",
       "      <td>2</td>\n",
       "      <td>159</td>\n",
       "      <td>3</td>\n",
       "      <td>0</td>\n",
       "      <td>1</td>\n",
       "      <td>0</td>\n",
       "      <td>sales</td>\n",
       "      <td>1</td>\n",
       "    </tr>\n",
       "    <tr>\n",
       "      <th>4</th>\n",
       "      <td>0.41</td>\n",
       "      <td>0.50</td>\n",
       "      <td>2</td>\n",
       "      <td>153</td>\n",
       "      <td>3</td>\n",
       "      <td>0</td>\n",
       "      <td>1</td>\n",
       "      <td>0</td>\n",
       "      <td>sales</td>\n",
       "      <td>1</td>\n",
       "    </tr>\n",
       "  </tbody>\n",
       "</table>\n",
       "</div>"
      ],
      "text/plain": [
       "   satisfactoryLevel  lastEvaluation  numberOfProjects  avgMonthlyHours  \\\n",
       "0               0.38            0.53                 2              157   \n",
       "1               0.80            0.86                 5              262   \n",
       "2               0.11            0.88                 7              272   \n",
       "3               0.37            0.52                 2              159   \n",
       "4               0.41            0.50                 2              153   \n",
       "\n",
       "   timeSpent_company  workAccident  left  promotionInLast5years   dept  salary  \n",
       "0                  3             0     1                      0  sales       1  \n",
       "1                  6             0     1                      0  sales       2  \n",
       "2                  4             0     1                      0  sales       2  \n",
       "3                  3             0     1                      0  sales       1  \n",
       "4                  3             0     1                      0  sales       1  "
      ]
     },
     "execution_count": 37,
     "metadata": {},
     "output_type": "execute_result"
    }
   ],
   "source": [
    "df1.head()"
   ]
  },
  {
   "cell_type": "code",
   "execution_count": 38,
   "metadata": {},
   "outputs": [
    {
     "name": "stderr",
     "output_type": "stream",
     "text": [
      "C:\\Users\\Dell\\AppData\\Local\\Temp\\ipykernel_3712\\3461778469.py:2: SettingWithCopyWarning: \n",
      "A value is trying to be set on a copy of a slice from a DataFrame.\n",
      "Try using .loc[row_indexer,col_indexer] = value instead\n",
      "\n",
      "See the caveats in the documentation: https://pandas.pydata.org/pandas-docs/stable/user_guide/indexing.html#returning-a-view-versus-a-copy\n",
      "  df1[\"dept\"]=l1.fit_transform(df1[\"dept\"])\n"
     ]
    }
   ],
   "source": [
    "l1=LabelEncoder()\n",
    "df1[\"dept\"]=l1.fit_transform(df1[\"dept\"])  "
   ]
  },
  {
   "cell_type": "code",
   "execution_count": 39,
   "metadata": {},
   "outputs": [
    {
     "data": {
      "text/plain": [
       "array([1, 2, 0])"
      ]
     },
     "execution_count": 39,
     "metadata": {},
     "output_type": "execute_result"
    }
   ],
   "source": [
    "df1['salary'].unique()"
   ]
  },
  {
   "cell_type": "code",
   "execution_count": 40,
   "metadata": {},
   "outputs": [
    {
     "data": {
      "text/plain": [
       "array([7, 2, 3, 9, 8, 0, 6, 5, 4, 1])"
      ]
     },
     "execution_count": 40,
     "metadata": {},
     "output_type": "execute_result"
    }
   ],
   "source": [
    "df1[\"dept\"].unique()"
   ]
  },
  {
   "cell_type": "code",
   "execution_count": null,
   "metadata": {
    "colab": {
     "base_uri": "https://localhost:8080/",
     "height": 396
    },
    "id": "xTi9Un_kditc",
    "outputId": "88e68c66-26e2-4a93-9941-3d1cd5817443",
    "scrolled": true
   },
   "outputs": [],
   "source": [
    "df1.corr()"
   ]
  },
  {
   "cell_type": "markdown",
   "metadata": {
    "id": "QSUREWlo7H8G"
   },
   "source": [
    "Correlation Graph"
   ]
  },
  {
   "cell_type": "code",
   "execution_count": 41,
   "metadata": {
    "colab": {
     "base_uri": "https://localhost:8080/",
     "height": 717
    },
    "id": "gFg8eSrHYxAF",
    "outputId": "07b3d8e7-b3e6-49d0-85f0-eb3beb65d9ad"
   },
   "outputs": [
    {
     "data": {
      "text/plain": [
       "<Axes: >"
      ]
     },
     "execution_count": 41,
     "metadata": {},
     "output_type": "execute_result"
    },
    {
     "data": {
      "image/png": "[encoded data removed]",
      "text/plain": [
       "<Figure size 1080x720 with 2 Axes>"
      ]
     },
     "metadata": {
      "needs_background": "light"
     },
     "output_type": "display_data"
    }
   ],
   "source": [
    "plt.figure(figsize=(15,10))\n",
    "sns.heatmap(df1.corr(),annot=True,cmap=\"BuPu\")"
   ]
  },
  {
   "cell_type": "code",
   "execution_count": 42,
   "metadata": {
    "colab": {
     "base_uri": "https://localhost:8080/",
     "height": 270
    },
    "id": "NiI99LK0D5W_",
    "outputId": "3df994b2-59b8-40cc-fe76-5cf2eaeb2137",
    "scrolled": false
   },
   "outputs": [
    {
     "data": {
      "text/html": [
       "<div>\n",
       "<style scoped>\n",
       "    .dataframe tbody tr th:only-of-type {\n",
       "        vertical-align: middle;\n",
       "    }\n",
       "\n",
       "    .dataframe tbody tr th {\n",
       "        vertical-align: top;\n",
       "    }\n",
       "\n",
       "    .dataframe thead th {\n",
       "        text-align: right;\n",
       "    }\n",
       "</style>\n",
       "<table border=\"1\" class=\"dataframe\">\n",
       "  <thead>\n",
       "    <tr style=\"text-align: right;\">\n",
       "      <th></th>\n",
       "      <th>satisfactoryLevel</th>\n",
       "      <th>lastEvaluation</th>\n",
       "      <th>numberOfProjects</th>\n",
       "      <th>avgMonthlyHours</th>\n",
       "      <th>timeSpent_company</th>\n",
       "      <th>workAccident</th>\n",
       "      <th>left</th>\n",
       "      <th>promotionInLast5years</th>\n",
       "      <th>dept</th>\n",
       "      <th>salary</th>\n",
       "    </tr>\n",
       "  </thead>\n",
       "  <tbody>\n",
       "    <tr>\n",
       "      <th>0</th>\n",
       "      <td>0.38</td>\n",
       "      <td>0.53</td>\n",
       "      <td>2</td>\n",
       "      <td>157</td>\n",
       "      <td>3</td>\n",
       "      <td>0</td>\n",
       "      <td>1</td>\n",
       "      <td>0</td>\n",
       "      <td>7</td>\n",
       "      <td>1</td>\n",
       "    </tr>\n",
       "    <tr>\n",
       "      <th>1</th>\n",
       "      <td>0.80</td>\n",
       "      <td>0.86</td>\n",
       "      <td>5</td>\n",
       "      <td>262</td>\n",
       "      <td>6</td>\n",
       "      <td>0</td>\n",
       "      <td>1</td>\n",
       "      <td>0</td>\n",
       "      <td>7</td>\n",
       "      <td>2</td>\n",
       "    </tr>\n",
       "    <tr>\n",
       "      <th>2</th>\n",
       "      <td>0.11</td>\n",
       "      <td>0.88</td>\n",
       "      <td>7</td>\n",
       "      <td>272</td>\n",
       "      <td>4</td>\n",
       "      <td>0</td>\n",
       "      <td>1</td>\n",
       "      <td>0</td>\n",
       "      <td>7</td>\n",
       "      <td>2</td>\n",
       "    </tr>\n",
       "    <tr>\n",
       "      <th>3</th>\n",
       "      <td>0.37</td>\n",
       "      <td>0.52</td>\n",
       "      <td>2</td>\n",
       "      <td>159</td>\n",
       "      <td>3</td>\n",
       "      <td>0</td>\n",
       "      <td>1</td>\n",
       "      <td>0</td>\n",
       "      <td>7</td>\n",
       "      <td>1</td>\n",
       "    </tr>\n",
       "    <tr>\n",
       "      <th>4</th>\n",
       "      <td>0.41</td>\n",
       "      <td>0.50</td>\n",
       "      <td>2</td>\n",
       "      <td>153</td>\n",
       "      <td>3</td>\n",
       "      <td>0</td>\n",
       "      <td>1</td>\n",
       "      <td>0</td>\n",
       "      <td>7</td>\n",
       "      <td>1</td>\n",
       "    </tr>\n",
       "  </tbody>\n",
       "</table>\n",
       "</div>"
      ],
      "text/plain": [
       "   satisfactoryLevel  lastEvaluation  numberOfProjects  avgMonthlyHours  \\\n",
       "0               0.38            0.53                 2              157   \n",
       "1               0.80            0.86                 5              262   \n",
       "2               0.11            0.88                 7              272   \n",
       "3               0.37            0.52                 2              159   \n",
       "4               0.41            0.50                 2              153   \n",
       "\n",
       "   timeSpent_company  workAccident  left  promotionInLast5years  dept  salary  \n",
       "0                  3             0     1                      0     7       1  \n",
       "1                  6             0     1                      0     7       2  \n",
       "2                  4             0     1                      0     7       2  \n",
       "3                  3             0     1                      0     7       1  \n",
       "4                  3             0     1                      0     7       1  "
      ]
     },
     "execution_count": 42,
     "metadata": {},
     "output_type": "execute_result"
    }
   ],
   "source": [
    "df.head()"
   ]
  },
  {
   "cell_type": "code",
   "execution_count": 43,
   "metadata": {
    "scrolled": true
   },
   "outputs": [
    {
     "data": {
      "text/plain": [
       "(11991, 10)"
      ]
     },
     "execution_count": 43,
     "metadata": {},
     "output_type": "execute_result"
    }
   ],
   "source": [
    "df.shape"
   ]
  },
  {
   "cell_type": "code",
   "execution_count": 44,
   "metadata": {},
   "outputs": [
    {
     "data": {
      "text/html": [
       "<div>\n",
       "<style scoped>\n",
       "    .dataframe tbody tr th:only-of-type {\n",
       "        vertical-align: middle;\n",
       "    }\n",
       "\n",
       "    .dataframe tbody tr th {\n",
       "        vertical-align: top;\n",
       "    }\n",
       "\n",
       "    .dataframe thead th {\n",
       "        text-align: right;\n",
       "    }\n",
       "</style>\n",
       "<table border=\"1\" class=\"dataframe\">\n",
       "  <thead>\n",
       "    <tr style=\"text-align: right;\">\n",
       "      <th></th>\n",
       "      <th>satisfactoryLevel</th>\n",
       "      <th>lastEvaluation</th>\n",
       "      <th>numberOfProjects</th>\n",
       "      <th>avgMonthlyHours</th>\n",
       "      <th>timeSpent_company</th>\n",
       "      <th>workAccident</th>\n",
       "      <th>left</th>\n",
       "      <th>promotionInLast5years</th>\n",
       "      <th>dept</th>\n",
       "      <th>salary</th>\n",
       "    </tr>\n",
       "  </thead>\n",
       "  <tbody>\n",
       "    <tr>\n",
       "      <th>count</th>\n",
       "      <td>11991.000000</td>\n",
       "      <td>11991.000000</td>\n",
       "      <td>11991.000000</td>\n",
       "      <td>11991.000000</td>\n",
       "      <td>11991.000000</td>\n",
       "      <td>11991.000000</td>\n",
       "      <td>11991.000000</td>\n",
       "      <td>11991.000000</td>\n",
       "      <td>11991.000000</td>\n",
       "      <td>11991.000000</td>\n",
       "    </tr>\n",
       "    <tr>\n",
       "      <th>mean</th>\n",
       "      <td>0.629658</td>\n",
       "      <td>0.716683</td>\n",
       "      <td>3.802852</td>\n",
       "      <td>200.473522</td>\n",
       "      <td>3.364857</td>\n",
       "      <td>0.154282</td>\n",
       "      <td>0.166041</td>\n",
       "      <td>0.016929</td>\n",
       "      <td>5.871153</td>\n",
       "      <td>1.356184</td>\n",
       "    </tr>\n",
       "    <tr>\n",
       "      <th>std</th>\n",
       "      <td>0.241070</td>\n",
       "      <td>0.168343</td>\n",
       "      <td>1.163238</td>\n",
       "      <td>48.727813</td>\n",
       "      <td>1.330240</td>\n",
       "      <td>0.361234</td>\n",
       "      <td>0.372133</td>\n",
       "      <td>0.129012</td>\n",
       "      <td>2.899022</td>\n",
       "      <td>0.628071</td>\n",
       "    </tr>\n",
       "    <tr>\n",
       "      <th>min</th>\n",
       "      <td>0.090000</td>\n",
       "      <td>0.360000</td>\n",
       "      <td>2.000000</td>\n",
       "      <td>96.000000</td>\n",
       "      <td>2.000000</td>\n",
       "      <td>0.000000</td>\n",
       "      <td>0.000000</td>\n",
       "      <td>0.000000</td>\n",
       "      <td>0.000000</td>\n",
       "      <td>0.000000</td>\n",
       "    </tr>\n",
       "    <tr>\n",
       "      <th>25%</th>\n",
       "      <td>0.480000</td>\n",
       "      <td>0.570000</td>\n",
       "      <td>3.000000</td>\n",
       "      <td>157.000000</td>\n",
       "      <td>3.000000</td>\n",
       "      <td>0.000000</td>\n",
       "      <td>0.000000</td>\n",
       "      <td>0.000000</td>\n",
       "      <td>4.000000</td>\n",
       "      <td>1.000000</td>\n",
       "    </tr>\n",
       "    <tr>\n",
       "      <th>50%</th>\n",
       "      <td>0.660000</td>\n",
       "      <td>0.720000</td>\n",
       "      <td>4.000000</td>\n",
       "      <td>200.000000</td>\n",
       "      <td>3.000000</td>\n",
       "      <td>0.000000</td>\n",
       "      <td>0.000000</td>\n",
       "      <td>0.000000</td>\n",
       "      <td>7.000000</td>\n",
       "      <td>1.000000</td>\n",
       "    </tr>\n",
       "    <tr>\n",
       "      <th>75%</th>\n",
       "      <td>0.820000</td>\n",
       "      <td>0.860000</td>\n",
       "      <td>5.000000</td>\n",
       "      <td>243.000000</td>\n",
       "      <td>4.000000</td>\n",
       "      <td>0.000000</td>\n",
       "      <td>0.000000</td>\n",
       "      <td>0.000000</td>\n",
       "      <td>8.000000</td>\n",
       "      <td>2.000000</td>\n",
       "    </tr>\n",
       "    <tr>\n",
       "      <th>max</th>\n",
       "      <td>1.000000</td>\n",
       "      <td>1.000000</td>\n",
       "      <td>7.000000</td>\n",
       "      <td>310.000000</td>\n",
       "      <td>10.000000</td>\n",
       "      <td>1.000000</td>\n",
       "      <td>1.000000</td>\n",
       "      <td>1.000000</td>\n",
       "      <td>9.000000</td>\n",
       "      <td>2.000000</td>\n",
       "    </tr>\n",
       "  </tbody>\n",
       "</table>\n",
       "</div>"
      ],
      "text/plain": [
       "       satisfactoryLevel  lastEvaluation  numberOfProjects  avgMonthlyHours  \\\n",
       "count       11991.000000    11991.000000      11991.000000     11991.000000   \n",
       "mean            0.629658        0.716683          3.802852       200.473522   \n",
       "std             0.241070        0.168343          1.163238        48.727813   \n",
       "min             0.090000        0.360000          2.000000        96.000000   \n",
       "25%             0.480000        0.570000          3.000000       157.000000   \n",
       "50%             0.660000        0.720000          4.000000       200.000000   \n",
       "75%             0.820000        0.860000          5.000000       243.000000   \n",
       "max             1.000000        1.000000          7.000000       310.000000   \n",
       "\n",
       "       timeSpent_company  workAccident          left  promotionInLast5years  \\\n",
       "count       11991.000000  11991.000000  11991.000000           11991.000000   \n",
       "mean            3.364857      0.154282      0.166041               0.016929   \n",
       "std             1.330240      0.361234      0.372133               0.129012   \n",
       "min             2.000000      0.000000      0.000000               0.000000   \n",
       "25%             3.000000      0.000000      0.000000               0.000000   \n",
       "50%             3.000000      0.000000      0.000000               0.000000   \n",
       "75%             4.000000      0.000000      0.000000               0.000000   \n",
       "max            10.000000      1.000000      1.000000               1.000000   \n",
       "\n",
       "               dept        salary  \n",
       "count  11991.000000  11991.000000  \n",
       "mean       5.871153      1.356184  \n",
       "std        2.899022      0.628071  \n",
       "min        0.000000      0.000000  \n",
       "25%        4.000000      1.000000  \n",
       "50%        7.000000      1.000000  \n",
       "75%        8.000000      2.000000  \n",
       "max        9.000000      2.000000  "
      ]
     },
     "execution_count": 44,
     "metadata": {},
     "output_type": "execute_result"
    }
   ],
   "source": [
    "df.describe()"
   ]
  },
  {
   "cell_type": "code",
   "execution_count": 46,
   "metadata": {
    "id": "XMVdeqlw1Kba"
   },
   "outputs": [],
   "source": [
    "# Random experiment\n",
    "emp=df[(df.satisfactoryLevel>=0)&(df.satisfactoryLevel<=0.50)&(df.timeSpent_company==2)&(df.avgMonthlyHours>=130)&(df.avgMonthlyHours<=200)]"
   ]
  },
  {
   "cell_type": "code",
   "execution_count": 47,
   "metadata": {
    "colab": {
     "base_uri": "https://localhost:8080/",
     "height": 270
    },
    "id": "2UzyjmFR1TfB",
    "outputId": "1a8b46d0-a43f-4bcb-e015-3c8c524b1bc9"
   },
   "outputs": [
    {
     "data": {
      "text/html": [
       "<div>\n",
       "<style scoped>\n",
       "    .dataframe tbody tr th:only-of-type {\n",
       "        vertical-align: middle;\n",
       "    }\n",
       "\n",
       "    .dataframe tbody tr th {\n",
       "        vertical-align: top;\n",
       "    }\n",
       "\n",
       "    .dataframe thead th {\n",
       "        text-align: right;\n",
       "    }\n",
       "</style>\n",
       "<table border=\"1\" class=\"dataframe\">\n",
       "  <thead>\n",
       "    <tr style=\"text-align: right;\">\n",
       "      <th></th>\n",
       "      <th>satisfactoryLevel</th>\n",
       "      <th>lastEvaluation</th>\n",
       "      <th>numberOfProjects</th>\n",
       "      <th>avgMonthlyHours</th>\n",
       "      <th>timeSpent_company</th>\n",
       "      <th>workAccident</th>\n",
       "      <th>left</th>\n",
       "      <th>promotionInLast5years</th>\n",
       "      <th>dept</th>\n",
       "      <th>salary</th>\n",
       "    </tr>\n",
       "  </thead>\n",
       "  <tbody>\n",
       "    <tr>\n",
       "      <th>35</th>\n",
       "      <td>0.13</td>\n",
       "      <td>0.78</td>\n",
       "      <td>6</td>\n",
       "      <td>152</td>\n",
       "      <td>2</td>\n",
       "      <td>0</td>\n",
       "      <td>1</td>\n",
       "      <td>0</td>\n",
       "      <td>8</td>\n",
       "      <td>1</td>\n",
       "    </tr>\n",
       "    <tr>\n",
       "      <th>379</th>\n",
       "      <td>0.48</td>\n",
       "      <td>0.78</td>\n",
       "      <td>2</td>\n",
       "      <td>198</td>\n",
       "      <td>2</td>\n",
       "      <td>0</td>\n",
       "      <td>1</td>\n",
       "      <td>0</td>\n",
       "      <td>9</td>\n",
       "      <td>2</td>\n",
       "    </tr>\n",
       "    <tr>\n",
       "      <th>413</th>\n",
       "      <td>0.34</td>\n",
       "      <td>0.67</td>\n",
       "      <td>4</td>\n",
       "      <td>141</td>\n",
       "      <td>2</td>\n",
       "      <td>0</td>\n",
       "      <td>1</td>\n",
       "      <td>0</td>\n",
       "      <td>7</td>\n",
       "      <td>1</td>\n",
       "    </tr>\n",
       "    <tr>\n",
       "      <th>1239</th>\n",
       "      <td>0.14</td>\n",
       "      <td>0.47</td>\n",
       "      <td>4</td>\n",
       "      <td>175</td>\n",
       "      <td>2</td>\n",
       "      <td>0</td>\n",
       "      <td>1</td>\n",
       "      <td>0</td>\n",
       "      <td>1</td>\n",
       "      <td>2</td>\n",
       "    </tr>\n",
       "    <tr>\n",
       "      <th>1426</th>\n",
       "      <td>0.19</td>\n",
       "      <td>0.58</td>\n",
       "      <td>5</td>\n",
       "      <td>182</td>\n",
       "      <td>2</td>\n",
       "      <td>0</td>\n",
       "      <td>0</td>\n",
       "      <td>0</td>\n",
       "      <td>9</td>\n",
       "      <td>2</td>\n",
       "    </tr>\n",
       "  </tbody>\n",
       "</table>\n",
       "</div>"
      ],
      "text/plain": [
       "      satisfactoryLevel  lastEvaluation  numberOfProjects  avgMonthlyHours  \\\n",
       "35                 0.13            0.78                 6              152   \n",
       "379                0.48            0.78                 2              198   \n",
       "413                0.34            0.67                 4              141   \n",
       "1239               0.14            0.47                 4              175   \n",
       "1426               0.19            0.58                 5              182   \n",
       "\n",
       "      timeSpent_company  workAccident  left  promotionInLast5years  dept  \\\n",
       "35                    2             0     1                      0     8   \n",
       "379                   2             0     1                      0     9   \n",
       "413                   2             0     1                      0     7   \n",
       "1239                  2             0     1                      0     1   \n",
       "1426                  2             0     0                      0     9   \n",
       "\n",
       "      salary  \n",
       "35         1  \n",
       "379        2  \n",
       "413        1  \n",
       "1239       2  \n",
       "1426       2  "
      ]
     },
     "execution_count": 47,
     "metadata": {},
     "output_type": "execute_result"
    }
   ],
   "source": [
    "emp.head()"
   ]
  },
  {
   "cell_type": "code",
   "execution_count": 48,
   "metadata": {
    "colab": {
     "base_uri": "https://localhost:8080/"
    },
    "id": "XtAjyXXx1fYL",
    "outputId": "e9493bc9-bd63-43b3-8ddd-5a27306c406d"
   },
   "outputs": [
    {
     "data": {
      "text/plain": [
       "(217, 10)"
      ]
     },
     "execution_count": 48,
     "metadata": {},
     "output_type": "execute_result"
    }
   ],
   "source": [
    "emp.shape"
   ]
  },
  {
   "cell_type": "code",
   "execution_count": 49,
   "metadata": {
    "colab": {
     "base_uri": "https://localhost:8080/"
    },
    "id": "2appCQOi5Usj",
    "outputId": "603346ab-8b08-49a8-9295-0ac1e9682097",
    "scrolled": false
   },
   "outputs": [
    {
     "data": {
      "text/plain": [
       "0    211\n",
       "1      6\n",
       "Name: left, dtype: int64"
      ]
     },
     "execution_count": 49,
     "metadata": {},
     "output_type": "execute_result"
    }
   ],
   "source": [
    "emp[\"left\"].value_counts()"
   ]
  },
  {
   "cell_type": "code",
   "execution_count": 50,
   "metadata": {},
   "outputs": [
    {
     "data": {
      "text/plain": [
       "array([1, 0], dtype=int64)"
      ]
     },
     "execution_count": 50,
     "metadata": {},
     "output_type": "execute_result"
    }
   ],
   "source": [
    "emp['left'].unique()"
   ]
  },
  {
   "cell_type": "code",
   "execution_count": 51,
   "metadata": {},
   "outputs": [
    {
     "data": {
      "text/plain": [
       "2"
      ]
     },
     "execution_count": 51,
     "metadata": {},
     "output_type": "execute_result"
    }
   ],
   "source": [
    "emp['left'].nunique()"
   ]
  },
  {
   "cell_type": "code",
   "execution_count": null,
   "metadata": {},
   "outputs": [],
   "source": [
    "emp['salary'].value_counts()"
   ]
  },
  {
   "cell_type": "code",
   "execution_count": null,
   "metadata": {},
   "outputs": [],
   "source": [
    "emp.corr()"
   ]
  },
  {
   "cell_type": "code",
   "execution_count": 52,
   "metadata": {
    "colab": {
     "base_uri": "https://localhost:8080/"
    },
    "id": "g1qLmD6o2Ehd",
    "outputId": "71c357d2-db10-4d38-911e-06ebf0639a79"
   },
   "outputs": [
    {
     "data": {
      "text/plain": [
       "167.2258064516129"
      ]
     },
     "execution_count": 52,
     "metadata": {},
     "output_type": "execute_result"
    }
   ],
   "source": [
    "emp[\"avgMonthlyHours\"].mean()"
   ]
  },
  {
   "cell_type": "markdown",
   "metadata": {
    "id": "OQHPZu1N35PD"
   },
   "source": [
    "T-test"
   ]
  },
  {
   "cell_type": "code",
   "execution_count": null,
   "metadata": {
    "id": "Iee8yaexL7vR"
   },
   "outputs": [],
   "source": [
    "# t-test\n",
    "# It is used to determine if there is a significant difference between the means of two groups "
   ]
  },
  {
   "cell_type": "markdown",
   "metadata": {
    "id": "BJ5rgJIf5NyR"
   },
   "source": [
    "One sample t-test"
   ]
  },
  {
   "cell_type": "code",
   "execution_count": null,
   "metadata": {
    "id": "05duFPOLD5ad"
   },
   "outputs": [],
   "source": [
    "# One sample t-test - It tells us whether the means of the sample and the population are different or not"
   ]
  },
  {
   "cell_type": "markdown",
   "metadata": {
    "id": "1B1yuVhwNyCR"
   },
   "source": [
    "The average monthly hours of a employee having 2 years experience is 167. Is it same for employees having more than 2 years experience?\n",
    "\n",
    "Condition - Satisfactory level of a employee is from 0-0.5 and AvgMonthlyhours is from 130-200\n"
   ]
  },
  {
   "cell_type": "code",
   "execution_count": 53,
   "metadata": {
    "id": "ziTDqvO1D5To"
   },
   "outputs": [],
   "source": [
    "employee=df[(df.satisfactoryLevel>=0)&(df.satisfactoryLevel<=0.50)&(df.timeSpent_company>=3)&(df.avgMonthlyHours>=130)&(df.avgMonthlyHours<=200)]"
   ]
  },
  {
   "cell_type": "code",
   "execution_count": 54,
   "metadata": {
    "colab": {
     "base_uri": "https://localhost:8080/",
     "height": 270
    },
    "id": "UEkniLUEk17A",
    "outputId": "5635c60d-aa3d-46cd-fa81-317a1ab9f6e7"
   },
   "outputs": [
    {
     "data": {
      "text/html": [
       "<div>\n",
       "<style scoped>\n",
       "    .dataframe tbody tr th:only-of-type {\n",
       "        vertical-align: middle;\n",
       "    }\n",
       "\n",
       "    .dataframe tbody tr th {\n",
       "        vertical-align: top;\n",
       "    }\n",
       "\n",
       "    .dataframe thead th {\n",
       "        text-align: right;\n",
       "    }\n",
       "</style>\n",
       "<table border=\"1\" class=\"dataframe\">\n",
       "  <thead>\n",
       "    <tr style=\"text-align: right;\">\n",
       "      <th></th>\n",
       "      <th>satisfactoryLevel</th>\n",
       "      <th>lastEvaluation</th>\n",
       "      <th>numberOfProjects</th>\n",
       "      <th>avgMonthlyHours</th>\n",
       "      <th>timeSpent_company</th>\n",
       "      <th>workAccident</th>\n",
       "      <th>left</th>\n",
       "      <th>promotionInLast5years</th>\n",
       "      <th>dept</th>\n",
       "      <th>salary</th>\n",
       "    </tr>\n",
       "  </thead>\n",
       "  <tbody>\n",
       "    <tr>\n",
       "      <th>0</th>\n",
       "      <td>0.38</td>\n",
       "      <td>0.53</td>\n",
       "      <td>2</td>\n",
       "      <td>157</td>\n",
       "      <td>3</td>\n",
       "      <td>0</td>\n",
       "      <td>1</td>\n",
       "      <td>0</td>\n",
       "      <td>7</td>\n",
       "      <td>1</td>\n",
       "    </tr>\n",
       "    <tr>\n",
       "      <th>3</th>\n",
       "      <td>0.37</td>\n",
       "      <td>0.52</td>\n",
       "      <td>2</td>\n",
       "      <td>159</td>\n",
       "      <td>3</td>\n",
       "      <td>0</td>\n",
       "      <td>1</td>\n",
       "      <td>0</td>\n",
       "      <td>7</td>\n",
       "      <td>1</td>\n",
       "    </tr>\n",
       "    <tr>\n",
       "      <th>4</th>\n",
       "      <td>0.41</td>\n",
       "      <td>0.50</td>\n",
       "      <td>2</td>\n",
       "      <td>153</td>\n",
       "      <td>3</td>\n",
       "      <td>0</td>\n",
       "      <td>1</td>\n",
       "      <td>0</td>\n",
       "      <td>7</td>\n",
       "      <td>1</td>\n",
       "    </tr>\n",
       "    <tr>\n",
       "      <th>7</th>\n",
       "      <td>0.42</td>\n",
       "      <td>0.53</td>\n",
       "      <td>2</td>\n",
       "      <td>142</td>\n",
       "      <td>3</td>\n",
       "      <td>0</td>\n",
       "      <td>1</td>\n",
       "      <td>0</td>\n",
       "      <td>7</td>\n",
       "      <td>1</td>\n",
       "    </tr>\n",
       "    <tr>\n",
       "      <th>8</th>\n",
       "      <td>0.45</td>\n",
       "      <td>0.54</td>\n",
       "      <td>2</td>\n",
       "      <td>135</td>\n",
       "      <td>3</td>\n",
       "      <td>0</td>\n",
       "      <td>1</td>\n",
       "      <td>0</td>\n",
       "      <td>7</td>\n",
       "      <td>1</td>\n",
       "    </tr>\n",
       "  </tbody>\n",
       "</table>\n",
       "</div>"
      ],
      "text/plain": [
       "   satisfactoryLevel  lastEvaluation  numberOfProjects  avgMonthlyHours  \\\n",
       "0               0.38            0.53                 2              157   \n",
       "3               0.37            0.52                 2              159   \n",
       "4               0.41            0.50                 2              153   \n",
       "7               0.42            0.53                 2              142   \n",
       "8               0.45            0.54                 2              135   \n",
       "\n",
       "   timeSpent_company  workAccident  left  promotionInLast5years  dept  salary  \n",
       "0                  3             0     1                      0     7       1  \n",
       "3                  3             0     1                      0     7       1  \n",
       "4                  3             0     1                      0     7       1  \n",
       "7                  3             0     1                      0     7       1  \n",
       "8                  3             0     1                      0     7       1  "
      ]
     },
     "execution_count": 54,
     "metadata": {},
     "output_type": "execute_result"
    }
   ],
   "source": [
    "employee.head()"
   ]
  },
  {
   "cell_type": "code",
   "execution_count": 55,
   "metadata": {
    "colab": {
     "base_uri": "https://localhost:8080/"
    },
    "id": "KyO6RlEok73V",
    "outputId": "0af6f84b-08da-4296-8778-15a454759430"
   },
   "outputs": [
    {
     "data": {
      "text/plain": [
       "(1462, 10)"
      ]
     },
     "execution_count": 55,
     "metadata": {},
     "output_type": "execute_result"
    }
   ],
   "source": [
    "employee.shape"
   ]
  },
  {
   "cell_type": "code",
   "execution_count": null,
   "metadata": {
    "id": "VmOSoWS8PYyf"
   },
   "outputs": [],
   "source": [
    "# null hypothesis - avg monthly hours of a employee having 2 yrs exp and the employee more than that is same i.e, 167 hrs \n",
    "# alternate hypothesis - avg monthly hours of a employee having 2 yrs exp doesnot have same avg monthly hours with more than 2 yrs exp employee\n"
   ]
  },
  {
   "cell_type": "code",
   "execution_count": 56,
   "metadata": {
    "id": "8ec4rrobPY1a"
   },
   "outputs": [],
   "source": [
    "# selecting a random sample\n",
    "sample_size= 100\n",
    "sample1= employee.sample(sample_size,random_state=0)"
   ]
  },
  {
   "cell_type": "code",
   "execution_count": 57,
   "metadata": {
    "scrolled": true
   },
   "outputs": [
    {
     "data": {
      "text/html": [
       "<div>\n",
       "<style scoped>\n",
       "    .dataframe tbody tr th:only-of-type {\n",
       "        vertical-align: middle;\n",
       "    }\n",
       "\n",
       "    .dataframe tbody tr th {\n",
       "        vertical-align: top;\n",
       "    }\n",
       "\n",
       "    .dataframe thead th {\n",
       "        text-align: right;\n",
       "    }\n",
       "</style>\n",
       "<table border=\"1\" class=\"dataframe\">\n",
       "  <thead>\n",
       "    <tr style=\"text-align: right;\">\n",
       "      <th></th>\n",
       "      <th>satisfactoryLevel</th>\n",
       "      <th>lastEvaluation</th>\n",
       "      <th>numberOfProjects</th>\n",
       "      <th>avgMonthlyHours</th>\n",
       "      <th>timeSpent_company</th>\n",
       "      <th>workAccident</th>\n",
       "      <th>left</th>\n",
       "      <th>promotionInLast5years</th>\n",
       "      <th>dept</th>\n",
       "      <th>salary</th>\n",
       "    </tr>\n",
       "  </thead>\n",
       "  <tbody>\n",
       "    <tr>\n",
       "      <th>1685</th>\n",
       "      <td>0.17</td>\n",
       "      <td>0.76</td>\n",
       "      <td>4</td>\n",
       "      <td>171</td>\n",
       "      <td>5</td>\n",
       "      <td>0</td>\n",
       "      <td>0</td>\n",
       "      <td>0</td>\n",
       "      <td>6</td>\n",
       "      <td>1</td>\n",
       "    </tr>\n",
       "    <tr>\n",
       "      <th>11633</th>\n",
       "      <td>0.46</td>\n",
       "      <td>0.46</td>\n",
       "      <td>2</td>\n",
       "      <td>145</td>\n",
       "      <td>3</td>\n",
       "      <td>0</td>\n",
       "      <td>1</td>\n",
       "      <td>0</td>\n",
       "      <td>0</td>\n",
       "      <td>0</td>\n",
       "    </tr>\n",
       "    <tr>\n",
       "      <th>1250</th>\n",
       "      <td>0.45</td>\n",
       "      <td>0.53</td>\n",
       "      <td>2</td>\n",
       "      <td>159</td>\n",
       "      <td>3</td>\n",
       "      <td>0</td>\n",
       "      <td>1</td>\n",
       "      <td>0</td>\n",
       "      <td>7</td>\n",
       "      <td>1</td>\n",
       "    </tr>\n",
       "    <tr>\n",
       "      <th>774</th>\n",
       "      <td>0.45</td>\n",
       "      <td>0.49</td>\n",
       "      <td>2</td>\n",
       "      <td>144</td>\n",
       "      <td>3</td>\n",
       "      <td>0</td>\n",
       "      <td>1</td>\n",
       "      <td>0</td>\n",
       "      <td>2</td>\n",
       "      <td>1</td>\n",
       "    </tr>\n",
       "    <tr>\n",
       "      <th>3506</th>\n",
       "      <td>0.50</td>\n",
       "      <td>0.38</td>\n",
       "      <td>5</td>\n",
       "      <td>175</td>\n",
       "      <td>4</td>\n",
       "      <td>0</td>\n",
       "      <td>0</td>\n",
       "      <td>0</td>\n",
       "      <td>9</td>\n",
       "      <td>0</td>\n",
       "    </tr>\n",
       "    <tr>\n",
       "      <th>...</th>\n",
       "      <td>...</td>\n",
       "      <td>...</td>\n",
       "      <td>...</td>\n",
       "      <td>...</td>\n",
       "      <td>...</td>\n",
       "      <td>...</td>\n",
       "      <td>...</td>\n",
       "      <td>...</td>\n",
       "      <td>...</td>\n",
       "      <td>...</td>\n",
       "    </tr>\n",
       "    <tr>\n",
       "      <th>27</th>\n",
       "      <td>0.38</td>\n",
       "      <td>0.46</td>\n",
       "      <td>2</td>\n",
       "      <td>137</td>\n",
       "      <td>3</td>\n",
       "      <td>0</td>\n",
       "      <td>1</td>\n",
       "      <td>0</td>\n",
       "      <td>9</td>\n",
       "      <td>1</td>\n",
       "    </tr>\n",
       "    <tr>\n",
       "      <th>6314</th>\n",
       "      <td>0.37</td>\n",
       "      <td>0.72</td>\n",
       "      <td>2</td>\n",
       "      <td>163</td>\n",
       "      <td>3</td>\n",
       "      <td>0</td>\n",
       "      <td>0</td>\n",
       "      <td>0</td>\n",
       "      <td>7</td>\n",
       "      <td>1</td>\n",
       "    </tr>\n",
       "    <tr>\n",
       "      <th>2083</th>\n",
       "      <td>0.45</td>\n",
       "      <td>0.39</td>\n",
       "      <td>2</td>\n",
       "      <td>167</td>\n",
       "      <td>3</td>\n",
       "      <td>0</td>\n",
       "      <td>0</td>\n",
       "      <td>0</td>\n",
       "      <td>8</td>\n",
       "      <td>2</td>\n",
       "    </tr>\n",
       "    <tr>\n",
       "      <th>5162</th>\n",
       "      <td>0.12</td>\n",
       "      <td>0.39</td>\n",
       "      <td>5</td>\n",
       "      <td>161</td>\n",
       "      <td>4</td>\n",
       "      <td>0</td>\n",
       "      <td>0</td>\n",
       "      <td>0</td>\n",
       "      <td>0</td>\n",
       "      <td>1</td>\n",
       "    </tr>\n",
       "    <tr>\n",
       "      <th>1204</th>\n",
       "      <td>0.43</td>\n",
       "      <td>0.53</td>\n",
       "      <td>2</td>\n",
       "      <td>136</td>\n",
       "      <td>3</td>\n",
       "      <td>0</td>\n",
       "      <td>1</td>\n",
       "      <td>0</td>\n",
       "      <td>7</td>\n",
       "      <td>2</td>\n",
       "    </tr>\n",
       "  </tbody>\n",
       "</table>\n",
       "<p>100 rows × 10 columns</p>\n",
       "</div>"
      ],
      "text/plain": [
       "       satisfactoryLevel  lastEvaluation  numberOfProjects  avgMonthlyHours  \\\n",
       "1685                0.17            0.76                 4              171   \n",
       "11633               0.46            0.46                 2              145   \n",
       "1250                0.45            0.53                 2              159   \n",
       "774                 0.45            0.49                 2              144   \n",
       "3506                0.50            0.38                 5              175   \n",
       "...                  ...             ...               ...              ...   \n",
       "27                  0.38            0.46                 2              137   \n",
       "6314                0.37            0.72                 2              163   \n",
       "2083                0.45            0.39                 2              167   \n",
       "5162                0.12            0.39                 5              161   \n",
       "1204                0.43            0.53                 2              136   \n",
       "\n",
       "       timeSpent_company  workAccident  left  promotionInLast5years  dept  \\\n",
       "1685                   5             0     0                      0     6   \n",
       "11633                  3             0     1                      0     0   \n",
       "1250                   3             0     1                      0     7   \n",
       "774                    3             0     1                      0     2   \n",
       "3506                   4             0     0                      0     9   \n",
       "...                  ...           ...   ...                    ...   ...   \n",
       "27                     3             0     1                      0     9   \n",
       "6314                   3             0     0                      0     7   \n",
       "2083                   3             0     0                      0     8   \n",
       "5162                   4             0     0                      0     0   \n",
       "1204                   3             0     1                      0     7   \n",
       "\n",
       "       salary  \n",
       "1685        1  \n",
       "11633       0  \n",
       "1250        1  \n",
       "774         1  \n",
       "3506        0  \n",
       "...       ...  \n",
       "27          1  \n",
       "6314        1  \n",
       "2083        2  \n",
       "5162        1  \n",
       "1204        2  \n",
       "\n",
       "[100 rows x 10 columns]"
      ]
     },
     "execution_count": 57,
     "metadata": {},
     "output_type": "execute_result"
    }
   ],
   "source": [
    "sample1"
   ]
  },
  {
   "cell_type": "code",
   "execution_count": 58,
   "metadata": {},
   "outputs": [
    {
     "data": {
      "text/html": [
       "<div>\n",
       "<style scoped>\n",
       "    .dataframe tbody tr th:only-of-type {\n",
       "        vertical-align: middle;\n",
       "    }\n",
       "\n",
       "    .dataframe tbody tr th {\n",
       "        vertical-align: top;\n",
       "    }\n",
       "\n",
       "    .dataframe thead th {\n",
       "        text-align: right;\n",
       "    }\n",
       "</style>\n",
       "<table border=\"1\" class=\"dataframe\">\n",
       "  <thead>\n",
       "    <tr style=\"text-align: right;\">\n",
       "      <th></th>\n",
       "      <th>satisfactoryLevel</th>\n",
       "      <th>lastEvaluation</th>\n",
       "      <th>numberOfProjects</th>\n",
       "      <th>avgMonthlyHours</th>\n",
       "      <th>timeSpent_company</th>\n",
       "      <th>workAccident</th>\n",
       "      <th>left</th>\n",
       "      <th>promotionInLast5years</th>\n",
       "      <th>dept</th>\n",
       "      <th>salary</th>\n",
       "    </tr>\n",
       "  </thead>\n",
       "  <tbody>\n",
       "    <tr>\n",
       "      <th>count</th>\n",
       "      <td>1462.000000</td>\n",
       "      <td>1462.000000</td>\n",
       "      <td>1462.000000</td>\n",
       "      <td>1462.000000</td>\n",
       "      <td>1462.000000</td>\n",
       "      <td>1462.000000</td>\n",
       "      <td>1462.000000</td>\n",
       "      <td>1462.000000</td>\n",
       "      <td>1462.000000</td>\n",
       "      <td>1462.000000</td>\n",
       "    </tr>\n",
       "    <tr>\n",
       "      <th>mean</th>\n",
       "      <td>0.366313</td>\n",
       "      <td>0.596464</td>\n",
       "      <td>2.956224</td>\n",
       "      <td>155.547880</td>\n",
       "      <td>3.584815</td>\n",
       "      <td>0.116279</td>\n",
       "      <td>0.526676</td>\n",
       "      <td>0.013680</td>\n",
       "      <td>5.770178</td>\n",
       "      <td>1.344733</td>\n",
       "    </tr>\n",
       "    <tr>\n",
       "      <th>std</th>\n",
       "      <td>0.101213</td>\n",
       "      <td>0.150941</td>\n",
       "      <td>1.307379</td>\n",
       "      <td>18.424461</td>\n",
       "      <td>1.154399</td>\n",
       "      <td>0.320669</td>\n",
       "      <td>0.499459</td>\n",
       "      <td>0.116198</td>\n",
       "      <td>2.889569</td>\n",
       "      <td>0.590974</td>\n",
       "    </tr>\n",
       "    <tr>\n",
       "      <th>min</th>\n",
       "      <td>0.100000</td>\n",
       "      <td>0.360000</td>\n",
       "      <td>2.000000</td>\n",
       "      <td>130.000000</td>\n",
       "      <td>3.000000</td>\n",
       "      <td>0.000000</td>\n",
       "      <td>0.000000</td>\n",
       "      <td>0.000000</td>\n",
       "      <td>0.000000</td>\n",
       "      <td>0.000000</td>\n",
       "    </tr>\n",
       "    <tr>\n",
       "      <th>25%</th>\n",
       "      <td>0.320000</td>\n",
       "      <td>0.490000</td>\n",
       "      <td>2.000000</td>\n",
       "      <td>141.000000</td>\n",
       "      <td>3.000000</td>\n",
       "      <td>0.000000</td>\n",
       "      <td>0.000000</td>\n",
       "      <td>0.000000</td>\n",
       "      <td>3.000000</td>\n",
       "      <td>1.000000</td>\n",
       "    </tr>\n",
       "    <tr>\n",
       "      <th>50%</th>\n",
       "      <td>0.390000</td>\n",
       "      <td>0.540000</td>\n",
       "      <td>2.000000</td>\n",
       "      <td>152.000000</td>\n",
       "      <td>3.000000</td>\n",
       "      <td>0.000000</td>\n",
       "      <td>1.000000</td>\n",
       "      <td>0.000000</td>\n",
       "      <td>7.000000</td>\n",
       "      <td>1.000000</td>\n",
       "    </tr>\n",
       "    <tr>\n",
       "      <th>75%</th>\n",
       "      <td>0.440000</td>\n",
       "      <td>0.670000</td>\n",
       "      <td>4.000000</td>\n",
       "      <td>166.000000</td>\n",
       "      <td>4.000000</td>\n",
       "      <td>0.000000</td>\n",
       "      <td>1.000000</td>\n",
       "      <td>0.000000</td>\n",
       "      <td>8.000000</td>\n",
       "      <td>2.000000</td>\n",
       "    </tr>\n",
       "    <tr>\n",
       "      <th>max</th>\n",
       "      <td>0.500000</td>\n",
       "      <td>1.000000</td>\n",
       "      <td>7.000000</td>\n",
       "      <td>200.000000</td>\n",
       "      <td>10.000000</td>\n",
       "      <td>1.000000</td>\n",
       "      <td>1.000000</td>\n",
       "      <td>1.000000</td>\n",
       "      <td>9.000000</td>\n",
       "      <td>2.000000</td>\n",
       "    </tr>\n",
       "  </tbody>\n",
       "</table>\n",
       "</div>"
      ],
      "text/plain": [
       "       satisfactoryLevel  lastEvaluation  numberOfProjects  avgMonthlyHours  \\\n",
       "count        1462.000000     1462.000000       1462.000000      1462.000000   \n",
       "mean            0.366313        0.596464          2.956224       155.547880   \n",
       "std             0.101213        0.150941          1.307379        18.424461   \n",
       "min             0.100000        0.360000          2.000000       130.000000   \n",
       "25%             0.320000        0.490000          2.000000       141.000000   \n",
       "50%             0.390000        0.540000          2.000000       152.000000   \n",
       "75%             0.440000        0.670000          4.000000       166.000000   \n",
       "max             0.500000        1.000000          7.000000       200.000000   \n",
       "\n",
       "       timeSpent_company  workAccident         left  promotionInLast5years  \\\n",
       "count        1462.000000   1462.000000  1462.000000            1462.000000   \n",
       "mean            3.584815      0.116279     0.526676               0.013680   \n",
       "std             1.154399      0.320669     0.499459               0.116198   \n",
       "min             3.000000      0.000000     0.000000               0.000000   \n",
       "25%             3.000000      0.000000     0.000000               0.000000   \n",
       "50%             3.000000      0.000000     1.000000               0.000000   \n",
       "75%             4.000000      0.000000     1.000000               0.000000   \n",
       "max            10.000000      1.000000     1.000000               1.000000   \n",
       "\n",
       "              dept       salary  \n",
       "count  1462.000000  1462.000000  \n",
       "mean      5.770178     1.344733  \n",
       "std       2.889569     0.590974  \n",
       "min       0.000000     0.000000  \n",
       "25%       3.000000     1.000000  \n",
       "50%       7.000000     1.000000  \n",
       "75%       8.000000     2.000000  \n",
       "max       9.000000     2.000000  "
      ]
     },
     "execution_count": 58,
     "metadata": {},
     "output_type": "execute_result"
    }
   ],
   "source": [
    "employee.describe()"
   ]
  },
  {
   "cell_type": "code",
   "execution_count": 59,
   "metadata": {
    "id": "4gnpw8rpPY5A"
   },
   "outputs": [],
   "source": [
    "# population mean\n",
    "pos_mean=167"
   ]
  },
  {
   "cell_type": "code",
   "execution_count": 60,
   "metadata": {
    "colab": {
     "base_uri": "https://localhost:8080/"
    },
    "id": "emsrW8X7mB0j",
    "outputId": "7161bc92-dbec-4462-893d-c77ed0f59438"
   },
   "outputs": [
    {
     "name": "stdout",
     "output_type": "stream",
     "text": [
      "154.2\n"
     ]
    }
   ],
   "source": [
    "# sample mean\n",
    "print(sample1[\"avgMonthlyHours\"].mean())"
   ]
  },
  {
   "cell_type": "code",
   "execution_count": 61,
   "metadata": {
    "id": "HpluLuWhmB3g"
   },
   "outputs": [],
   "source": [
    "from scipy.stats import ttest_1samp"
   ]
  },
  {
   "cell_type": "code",
   "execution_count": 62,
   "metadata": {
    "colab": {
     "base_uri": "https://localhost:8080/"
    },
    "id": "nwM6Zp5pmB6I",
    "outputId": "d7f29f8c-0e7c-4541-dfb6-5f1bc5ba42fa"
   },
   "outputs": [
    {
     "name": "stdout",
     "output_type": "stream",
     "text": [
      "-6.812850056008294 7.534573793907689e-10\n"
     ]
    }
   ],
   "source": [
    "statistics,pvalue=ttest_1samp(sample1[\"avgMonthlyHours\"],pos_mean)\n",
    "print(statistics,pvalue)"
   ]
  },
  {
   "cell_type": "code",
   "execution_count": 63,
   "metadata": {
    "colab": {
     "base_uri": "https://localhost:8080/"
    },
    "id": "tTlnIN90mB8y",
    "outputId": "f3b51536-7c53-4d72-b74b-3a6e0232667b",
    "scrolled": true
   },
   "outputs": [
    {
     "name": "stdout",
     "output_type": "stream",
     "text": [
      "1462 1461\n"
     ]
    }
   ],
   "source": [
    "# Degrees of freedom\n",
    "n=len(employee[\"avgMonthlyHours\"])\n",
    "dof=n-1\n",
    "print(n,dof)"
   ]
  },
  {
   "cell_type": "code",
   "execution_count": null,
   "metadata": {},
   "outputs": [],
   "source": [
    "#df=99"
   ]
  },
  {
   "cell_type": "code",
   "execution_count": 64,
   "metadata": {
    "id": "4VQllBRcmB_o"
   },
   "outputs": [],
   "source": [
    "alpha=0.05"
   ]
  },
  {
   "cell_type": "code",
   "execution_count": 65,
   "metadata": {
    "id": "P5YemzdWmCB9"
   },
   "outputs": [],
   "source": [
    "from scipy.stats import t"
   ]
  },
  {
   "cell_type": "code",
   "execution_count": 66,
   "metadata": {
    "colab": {
     "base_uri": "https://localhost:8080/"
    },
    "id": "ZoKjR0BjmCF5",
    "outputId": "640bd5fe-6e36-4c87-9619-37268d6aaa45"
   },
   "outputs": [
    {
     "name": "stdout",
     "output_type": "stream",
     "text": [
      "[-1.96158904  1.96158904]\n"
     ]
    }
   ],
   "source": [
    "cv=t.ppf([alpha/2,1-alpha/2],dof)\n",
    "print(cv)"
   ]
  },
  {
   "cell_type": "code",
   "execution_count": null,
   "metadata": {
    "id": "TeXUxZGRnuLx"
   },
   "outputs": [],
   "source": [
    "# p value is less than 0.05\n",
    "#reject null hypothesis,avg monthly hours is not 167 hours for employees having more than 2 yrs of exp"
   ]
  },
  {
   "cell_type": "code",
   "execution_count": null,
   "metadata": {
    "id": "IuZI5N-Z3uMb"
   },
   "outputs": [],
   "source": [
    "# one sample z test for proportion"
   ]
  },
  {
   "cell_type": "markdown",
   "metadata": {
    "id": "WBRqzbyCQAB-"
   },
   "source": [
    "The percentage of employee leaving the company \n",
    "is 3% having experience of 2 years. Is it\n",
    " same for employees having more than 2\n",
    "years experience?"
   ]
  },
  {
   "cell_type": "code",
   "execution_count": null,
   "metadata": {
    "id": "NAeVcIm2QNgU"
   },
   "outputs": [],
   "source": [
    "# Null hypothesis - percentage of employee leaving the company having the exp of 2 years is same as employee having exp more than 2 yrs\n",
    "# Alternate hypothesis - percentage of employee leaving the company having the exp of 2 years is different from the employee having exp more than 2 yrs"
   ]
  },
  {
   "cell_type": "code",
   "execution_count": null,
   "metadata": {
    "id": "wPJwfAGF3uSb"
   },
   "outputs": [],
   "source": [
    "from statsmodels.stats.proportion import proportions_ztest"
   ]
  },
  {
   "cell_type": "code",
   "execution_count": null,
   "metadata": {
    "id": "Pu5an2dn3uVg"
   },
   "outputs": [],
   "source": [
    "sample_size=100"
   ]
  },
  {
   "cell_type": "code",
   "execution_count": null,
   "metadata": {
    "id": "ou9URCxg3uYx"
   },
   "outputs": [],
   "source": [
    "sample1=employee.sample(sample_size,random_state=0)"
   ]
  },
  {
   "cell_type": "code",
   "execution_count": null,
   "metadata": {
    "id": "xA8WZ1yz3ub6"
   },
   "outputs": [],
   "source": [
    "count=sample1[\"left\"].value_counts()"
   ]
  },
  {
   "cell_type": "code",
   "execution_count": null,
   "metadata": {
    "colab": {
     "base_uri": "https://localhost:8080/"
    },
    "id": "3GH6VOe43ufa",
    "outputId": "069c0d39-15ce-45c4-8b1b-eaefc7a8c234"
   },
   "outputs": [],
   "source": [
    "count"
   ]
  },
  {
   "cell_type": "code",
   "execution_count": null,
   "metadata": {
    "id": "nKtKw1427SF3"
   },
   "outputs": [],
   "source": [
    "nobs=len(sample1[\"left\"])"
   ]
  },
  {
   "cell_type": "code",
   "execution_count": null,
   "metadata": {
    "colab": {
     "base_uri": "https://localhost:8080/"
    },
    "id": "nYyzjbjH7ohz",
    "outputId": "e190f3f6-80a9-4e4d-ce33-0feae32107e4",
    "scrolled": true
   },
   "outputs": [],
   "source": [
    "nobs"
   ]
  },
  {
   "cell_type": "code",
   "execution_count": null,
   "metadata": {
    "id": "ZtSJQlX27axB"
   },
   "outputs": [],
   "source": [
    "p0=0.03"
   ]
  },
  {
   "cell_type": "code",
   "execution_count": null,
   "metadata": {
    "colab": {
     "base_uri": "https://localhost:8080/"
    },
    "id": "UqVl74Qr7az9",
    "outputId": "ededa446-7f40-4452-fa26-a56f5d63d6c3"
   },
   "outputs": [],
   "source": [
    "#sample1[\"left\"].value_counts()/nobs"
   ]
  },
  {
   "cell_type": "code",
   "execution_count": null,
   "metadata": {
    "id": "sqSXnW5J7a2v"
   },
   "outputs": [],
   "source": [
    "statistic_oneprop,pvalue_oneprop=proportions_ztest(count=count,nobs=nobs,value=p0,alternative=\"two-sided\",prop_var=False)"
   ]
  },
  {
   "cell_type": "code",
   "execution_count": null,
   "metadata": {
    "colab": {
     "base_uri": "https://localhost:8080/"
    },
    "id": "LgkNCMwa7a5c",
    "outputId": "a726a609-7776-4bd9-b267-0c49111c0640"
   },
   "outputs": [],
   "source": [
    "print(statistic_oneprop,pvalue_oneprop)"
   ]
  },
  {
   "cell_type": "code",
   "execution_count": null,
   "metadata": {
    "id": "Snyf-tlD-Xuq"
   },
   "outputs": [],
   "source": [
    "# p value is less than 0.05 reject null hypothesis and accept alternate hypothesis \n",
    "# percentage of employee leaving the company having the exp of 2 years is not same as employee having exp more than 2 yrs"
   ]
  },
  {
   "cell_type": "code",
   "execution_count": null,
   "metadata": {
    "id": "6RwZSk_K4WEb"
   },
   "outputs": [],
   "source": []
  },
  {
   "cell_type": "code",
   "execution_count": null,
   "metadata": {
    "colab": {
     "base_uri": "https://localhost:8080/"
    },
    "id": "30bzPwtJ7a8c",
    "outputId": "d6a48140-95e4-4ad4-e327-4dc5fe3c25c7"
   },
   "outputs": [],
   "source": [
    "from scipy.stats import norm\n",
    "cv_norm=norm.ppf([alpha/2,1-alpha/2])\n",
    "print(cv_norm)"
   ]
  },
  {
   "cell_type": "markdown",
   "metadata": {
    "id": "BmfwoBhT494F"
   },
   "source": [
    "Two sample t-test"
   ]
  },
  {
   "cell_type": "code",
   "execution_count": null,
   "metadata": {
    "id": "q6W9-U7i7bAO"
   },
   "outputs": [],
   "source": [
    "# Two sample test for means - compared the means of a two independent groups"
   ]
  },
  {
   "cell_type": "code",
   "execution_count": null,
   "metadata": {
    "colab": {
     "base_uri": "https://localhost:8080/",
     "height": 270
    },
    "id": "OQhdAbRXupFh",
    "outputId": "cd6cc872-7c0b-43f2-974e-ef51bd3b6257"
   },
   "outputs": [],
   "source": [
    "df1.head()"
   ]
  },
  {
   "cell_type": "code",
   "execution_count": null,
   "metadata": {
    "colab": {
     "base_uri": "https://localhost:8080/"
    },
    "id": "KxZdaT5avXMh",
    "outputId": "9b04ed37-89a5-4aed-c01f-403f94179ca8"
   },
   "outputs": [],
   "source": [
    "df1[\"timeSpent_company\"].unique()"
   ]
  },
  {
   "cell_type": "markdown",
   "metadata": {
    "id": "8YpYHa_4ZJfq"
   },
   "source": [
    "Is the mean avg monthly hours of a employee having experience of 2-5 yrs is the same as that for employee having exp 6 - 10 yrs ?"
   ]
  },
  {
   "cell_type": "code",
   "execution_count": null,
   "metadata": {
    "id": "Y5IT8Gm7s1X4"
   },
   "outputs": [],
   "source": [
    "# checking the variance of both"
   ]
  },
  {
   "cell_type": "code",
   "execution_count": null,
   "metadata": {
    "id": "tG8_3kmgs1a9"
   },
   "outputs": [],
   "source": [
    "e1=df1[(df1.timeSpent_company>=2) & (df1.timeSpent_company<=5)]\n",
    "e2=df1[(df1.timeSpent_company>=6) & (df1.timeSpent_company<=10)]"
   ]
  },
  {
   "cell_type": "code",
   "execution_count": null,
   "metadata": {
    "colab": {
     "base_uri": "https://localhost:8080/",
     "height": 270
    },
    "id": "a643gBhAs1d-",
    "outputId": "4b9e0dfa-b67b-4548-f8c1-4f8a24b4df83"
   },
   "outputs": [],
   "source": [
    "e1.head()"
   ]
  },
  {
   "cell_type": "code",
   "execution_count": null,
   "metadata": {
    "colab": {
     "base_uri": "https://localhost:8080/"
    },
    "id": "h7iSlxcNs1gh",
    "outputId": "67c92021-b8df-4d5b-be80-f83193ba4a4c"
   },
   "outputs": [],
   "source": [
    "e1.shape"
   ]
  },
  {
   "cell_type": "code",
   "execution_count": null,
   "metadata": {
    "colab": {
     "base_uri": "https://localhost:8080/",
     "height": 270
    },
    "id": "jSiJdEi7s1j6",
    "outputId": "578d7526-3bb1-4aad-f499-5b3f5eac01a7"
   },
   "outputs": [],
   "source": [
    "e2.head()"
   ]
  },
  {
   "cell_type": "code",
   "execution_count": null,
   "metadata": {
    "colab": {
     "base_uri": "https://localhost:8080/"
    },
    "id": "OG0AXHzFs1md",
    "outputId": "5e38c746-03e7-4212-d439-0e4a148779a7"
   },
   "outputs": [],
   "source": [
    "e2.shape"
   ]
  },
  {
   "cell_type": "code",
   "execution_count": null,
   "metadata": {
    "id": "-44bbs04s1sK"
   },
   "outputs": [],
   "source": [
    "s1=e1.sample(200,random_state=0)\n",
    "s2=e2.sample(200,random_state=0)"
   ]
  },
  {
   "cell_type": "code",
   "execution_count": null,
   "metadata": {
    "id": "4I4PGGKxVwIC"
   },
   "outputs": [],
   "source": [
    " import scipy"
   ]
  },
  {
   "cell_type": "code",
   "execution_count": null,
   "metadata": {
    "colab": {
     "base_uri": "https://localhost:8080/"
    },
    "id": "BfrY6bRyUenb",
    "outputId": "5e020102-082f-434d-a7d8-e1d79339cf09"
   },
   "outputs": [],
   "source": [
    "scipy.stats.ttest_ind(s1[\"avgMonthlyHours\"],s2[\"avgMonthlyHours\"])"
   ]
  },
  {
   "cell_type": "code",
   "execution_count": null,
   "metadata": {
    "id": "am6wLqCKYtUJ"
   },
   "outputs": [],
   "source": [
    "# p value > 0.05 Hence accept null hypothesis\n",
    "# The mean avg monthly hours of a employee having experience of 2-5 yrs is the same as that for employee having exp 6 - 10 yrs\n"
   ]
  },
  {
   "cell_type": "markdown",
   "metadata": {
    "id": "m25kYfZdcTEV"
   },
   "source": [
    " F-statistics\n",
    " "
   ]
  },
  {
   "cell_type": "markdown",
   "metadata": {
    "id": "XRUXPyMz6vJv"
   },
   "source": [
    "Compute the f-statistics of the previous problem statement"
   ]
  },
  {
   "cell_type": "code",
   "execution_count": null,
   "metadata": {
    "id": "RV1jGH3f4pGx"
   },
   "outputs": [],
   "source": [
    "# F-test for variance is used to test if the variances of two populations are equal."
   ]
  },
  {
   "cell_type": "code",
   "execution_count": null,
   "metadata": {
    "colab": {
     "base_uri": "https://localhost:8080/"
    },
    "id": "FBFcv15ws1vS",
    "outputId": "3cbea63f-388e-4e49-e6c2-517283d20b6c"
   },
   "outputs": [],
   "source": [
    "# Sample Variance \n",
    "print(s1.avgMonthlyHours.var())\n",
    "print(s2.avgMonthlyHours.var())"
   ]
  },
  {
   "cell_type": "code",
   "execution_count": null,
   "metadata": {
    "colab": {
     "base_uri": "https://localhost:8080/"
    },
    "id": "VyvNhl_5_asM",
    "outputId": "fd485369-9960-4920-e3fa-a6c3144c7a17"
   },
   "outputs": [],
   "source": [
    "# Sample mean\n",
    "print(s1.avgMonthlyHours.mean())\n",
    "print(s2.avgMonthlyHours.mean())"
   ]
  },
  {
   "cell_type": "code",
   "execution_count": null,
   "metadata": {
    "colab": {
     "base_uri": "https://localhost:8080/"
    },
    "id": "b__VwFzg_avB",
    "outputId": "d280372d-d4ae-416b-cf23-43eb58b4464d"
   },
   "outputs": [],
   "source": [
    "# Computing f statistic\n",
    "from scipy.stats import f\n",
    "F=s1.avgMonthlyHours.var()/s2.avgMonthlyHours.var()\n",
    "print(F)\n"
   ]
  },
  {
   "cell_type": "code",
   "execution_count": null,
   "metadata": {
    "id": "Ci4W8WD-_axu"
   },
   "outputs": [],
   "source": [
    "# Degrees of freedom for sample\n",
    "df1=len(s1)-1\n",
    "df2=len(s2)-1"
   ]
  },
  {
   "cell_type": "code",
   "execution_count": null,
   "metadata": {
    "id": "8WZ3KAVTCFG6"
   },
   "outputs": [],
   "source": [
    "import scipy.stats"
   ]
  },
  {
   "cell_type": "code",
   "execution_count": null,
   "metadata": {
    "colab": {
     "base_uri": "https://localhost:8080/"
    },
    "id": "n-mbfyRK_a0e",
    "outputId": "b3cbadcf-68ee-47b9-aa47-9d78a02a6db4"
   },
   "outputs": [],
   "source": [
    "p_value=scipy.stats.f.cdf(F, df1, df2)\n",
    "print(p_value)"
   ]
  },
  {
   "cell_type": "code",
   "execution_count": null,
   "metadata": {
    "colab": {
     "base_uri": "https://localhost:8080/"
    },
    "id": "Cmno_5Bw_a4A",
    "outputId": "48619a7e-7045-41d4-c434-2d9c19e7e6a2"
   },
   "outputs": [],
   "source": [
    "cv=f.ppf([alpha/2,1-alpha/2],df1, df2)\n",
    "print(cv)"
   ]
  },
  {
   "cell_type": "code",
   "execution_count": null,
   "metadata": {
    "id": "pscOZikegOSd"
   },
   "outputs": [],
   "source": [
    "# p value is >0.05, accept null hypothesis, equal variances"
   ]
  }
 ],
 "metadata": {
  "colab": {
   "collapsed_sections": [],
   "provenance": []
  },
  "kernelspec": {
   "display_name": "Python 3 (ipykernel)",
   "language": "python",
   "name": "python3"
  },
  "language_info": {
   "codemirror_mode": {
    "name": "ipython",
    "version": 3
   },
   "file_extension": ".py",
   "mimetype": "text/x-python",
   "name": "python",
   "nbconvert_exporter": "python",
   "pygments_lexer": "ipython3",
   "version": "3.11.4"
  }
 },
 "nbformat": 4,
 "nbformat_minor": 1
}
