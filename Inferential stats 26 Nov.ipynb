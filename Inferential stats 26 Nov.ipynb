{
 "cells": [
  {
   "cell_type": "code",
   "execution_count": 2,
   "id": "a03fc1c6",
   "metadata": {},
   "outputs": [],
   "source": [
    "import scipy.stats as st\n",
    "import statistics as s\n",
    "import numpy as np\n",
    "import matplotlib.pyplot as plt"
   ]
  },
  {
   "cell_type": "code",
   "execution_count": 5,
   "id": "2fdf3957",
   "metadata": {},
   "outputs": [],
   "source": [
    "height=[169,174,156,155,158,195,158, 163,175,172,182,176]"
   ]
  },
  {
   "cell_type": "code",
   "execution_count": 7,
   "id": "5782940c",
   "metadata": {},
   "outputs": [
    {
     "data": {
      "text/plain": [
       "12"
      ]
     },
     "execution_count": 7,
     "metadata": {},
     "output_type": "execute_result"
    }
   ],
   "source": [
    "len(height)"
   ]
  },
  {
   "cell_type": "code",
   "execution_count": 8,
   "id": "84282a43",
   "metadata": {},
   "outputs": [
    {
     "data": {
      "text/plain": [
       "169.41666666666666"
      ]
     },
     "execution_count": 8,
     "metadata": {},
     "output_type": "execute_result"
    }
   ],
   "source": [
    "#Sample mean\n",
    "sample_mean=np.mean(height)\n",
    "sample_mean"
   ]
  },
  {
   "cell_type": "code",
   "execution_count": 35,
   "id": "4529d1b3",
   "metadata": {},
   "outputs": [
    {
     "data": {
      "text/plain": [
       "2.3263478740408408"
      ]
     },
     "execution_count": 35,
     "metadata": {},
     "output_type": "execute_result"
    }
   ],
   "source": [
    "# Calculating Z value\n",
    "z_value=st.norm.ppf(0.99)\n",
    "z_value"
   ]
  },
  {
   "cell_type": "code",
   "execution_count": 27,
   "id": "572171f9",
   "metadata": {},
   "outputs": [
    {
     "data": {
      "text/plain": [
       "11.564733267808453"
      ]
     },
     "execution_count": 27,
     "metadata": {},
     "output_type": "execute_result"
    }
   ],
   "source": [
    "np.std(height)"
   ]
  },
  {
   "cell_type": "code",
   "execution_count": 28,
   "id": "8633cf37",
   "metadata": {},
   "outputs": [
    {
     "data": {
      "text/plain": [
       "3.4868982772601207"
      ]
     },
     "execution_count": 28,
     "metadata": {},
     "output_type": "execute_result"
    }
   ],
   "source": [
    "## Calculating standard error of mean\n",
    "sem=st.sem(height)\n",
    "sem"
   ]
  },
  {
   "cell_type": "code",
   "execution_count": 29,
   "id": "b34b3a1b",
   "metadata": {},
   "outputs": [],
   "source": [
    "## Calculating Confidence interval\n",
    "lower_range=sample_mean-(z_value*sem)\n",
    "upper_range=sample_mean+(z_value*sem)"
   ]
  },
  {
   "cell_type": "code",
   "execution_count": 30,
   "id": "d2ae1a27",
   "metadata": {},
   "outputs": [
    {
     "name": "stdout",
     "output_type": "stream",
     "text": [
      "164.9480267205492 173.88530661278412\n"
     ]
    }
   ],
   "source": [
    "print(lower_range,upper_range)"
   ]
  },
  {
   "cell_type": "code",
   "execution_count": 31,
   "id": "f2fc1fdc",
   "metadata": {},
   "outputs": [
    {
     "data": {
      "text/plain": [
       "<Figure size 720x360 with 0 Axes>"
      ]
     },
     "metadata": {},
     "output_type": "display_data"
    },
    {
     "data": {
      "image/png": "[encoded data removed]",
      "text/plain": [
       "<Figure size 360x360 with 1 Axes>"
      ]
     },
     "metadata": {
      "needs_background": "light"
     },
     "output_type": "display_data"
    }
   ],
   "source": [
    "import seaborn as sns\n",
    "plt.figure(figsize=(10,5))\n",
    "sns.displot(height)\n",
    "plt.axvline(x=lower_range,color=\"red\")\n",
    "plt.axvline(x=upper_range,color=\"red\")\n",
    "plt.axvline(x=sample_mean,color=\"green\")\n",
    "plt.show()"
   ]
  },
  {
   "cell_type": "code",
   "execution_count": 34,
   "id": "d9858a4d",
   "metadata": {},
   "outputs": [
    {
     "data": {
      "text/plain": [
       "<Figure size 720x360 with 0 Axes>"
      ]
     },
     "metadata": {},
     "output_type": "display_data"
    },
    {
     "data": {
      "image/png": "[encoded data removed]",
      "text/plain": [
       "<Figure size 360x360 with 1 Axes>"
      ]
     },
     "metadata": {
      "needs_background": "light"
     },
     "output_type": "display_data"
    }
   ],
   "source": [
    "import seaborn as sns\n",
    "plt.figure(figsize=(10,5))\n",
    "sns.displot(height,kind=\"kde\")\n",
    "plt.axvline(x=lower_range,color=\"red\")\n",
    "plt.axvline(x=upper_range,color=\"red\")\n",
    "plt.axvline(x=sample_mean,color=\"green\")\n",
    "plt.show()"
   ]
  },
  {
   "cell_type": "markdown",
   "id": "b8cb5939",
   "metadata": {},
   "source": [
    "# One Sample T test"
   ]
  },
  {
   "cell_type": "code",
   "execution_count": 9,
   "id": "6cccbe0e",
   "metadata": {},
   "outputs": [],
   "source": [
    "from scipy.stats import ttest_1samp\n",
    "from random import sample\n",
    "import numpy as np"
   ]
  },
  {
   "cell_type": "markdown",
   "id": "42fd0873",
   "metadata": {},
   "source": [
    " Problem statement: Test hypothesis whether average weightt of new born is 3 kg\n",
    " \n",
    " Null Hypothesis: avg wieght of newborn is equal to 3 kg, mu=3kg\n",
    " \n",
    " Alternernate hypothesis: avg weight of newborn is not equal to 3kg, mu!=3kg"
   ]
  },
  {
   "cell_type": "code",
   "execution_count": 16,
   "id": "db13476e",
   "metadata": {},
   "outputs": [],
   "source": [
    "weights=[2,1,5,1,2,3,3.5,5,4,2,2.5,3,3.5,5,2.5,3,4,2,5,2.2,3.5,3,4,5]\n",
    "#weights=[2,1,5,3,3,3,3.5,5,4,3,2.5,3,3.5,5,3.5,3,4,2,5,3.2,3.5,3,4,5]"
   ]
  },
  {
   "cell_type": "code",
   "execution_count": 17,
   "id": "e5a8fa67",
   "metadata": {},
   "outputs": [
    {
     "data": {
      "text/plain": [
       "3.4458333333333333"
      ]
     },
     "execution_count": 17,
     "metadata": {},
     "output_type": "execute_result"
    }
   ],
   "source": [
    "len(weights)\n",
    "\n",
    "avg_weight=np.mean(weights)\n",
    "avg_weight"
   ]
  },
  {
   "cell_type": "code",
   "execution_count": 22,
   "id": "f6ef36fa",
   "metadata": {
    "scrolled": true
   },
   "outputs": [
    {
     "name": "stdout",
     "output_type": "stream",
     "text": [
      "Ttest_1sampResult(statistic=2.073505946629001, pvalue=0.049508385262653526)\n"
     ]
    }
   ],
   "source": [
    "print(ttest_1samp(weights,popmean=3))"
   ]
  },
  {
   "cell_type": "markdown",
   "id": "8639fa08",
   "metadata": {},
   "source": [
    "p value ranges between 0-1\n",
    "if p value is lesss than 0.05, (alpha=1-level of confidence), reject the null hypothesis\n",
    "if p value is >= than 0.05 , fail to reject null hypothesis\n"
   ]
  },
  {
   "cell_type": "markdown",
   "id": "600a90be",
   "metadata": {},
   "source": [
    "# Two sample t test"
   ]
  },
  {
   "cell_type": "code",
   "execution_count": 23,
   "id": "9e3c14e7",
   "metadata": {},
   "outputs": [],
   "source": [
    "from scipy.stats import ttest_ind\n",
    "from random import sample\n",
    "import numpy as np"
   ]
  },
  {
   "cell_type": "markdown",
   "id": "eb32d5d4",
   "metadata": {},
   "source": [
    "Problem statement: compare the average salary of male and female employees and find out whether both groups have same salries or different\n",
    "\n",
    "Null hypotheses: Both male and female employees have same average salries, Mu_male=Mu_female\n",
    "\n",
    "Alternate Hypothesis: male and female employees have different average salries, Mu_male!=Mu_female"
   ]
  },
  {
   "cell_type": "code",
   "execution_count": 36,
   "id": "08c72b32",
   "metadata": {},
   "outputs": [],
   "source": [
    "male_salries=sample(range(40,70),30)\n",
    "female_salries=sample(range(20,50),30)"
   ]
  },
  {
   "cell_type": "code",
   "execution_count": 37,
   "id": "d3c4c820",
   "metadata": {},
   "outputs": [
    {
     "name": "stdout",
     "output_type": "stream",
     "text": [
      "Ttest_indResult(statistic=8.798826901281197, pvalue=2.8521447136120594e-12)\n"
     ]
    }
   ],
   "source": [
    "print(ttest_ind(male_salries,female_salries,equal_var=True))"
   ]
  },
  {
   "cell_type": "code",
   "execution_count": 39,
   "id": "572efde9",
   "metadata": {},
   "outputs": [
    {
     "name": "stdout",
     "output_type": "stream",
     "text": [
      "54.5\n",
      "34.5\n"
     ]
    }
   ],
   "source": [
    "print(np.mean(male_salries))\n",
    "print(np.mean(female_salries))\n",
    "\n",
    "\n",
    "#Since p values is less than 0.05, at 95% confidence level, we will reject the null hypothesis"
   ]
  },
  {
   "cell_type": "markdown",
   "id": "c8dbe04f",
   "metadata": {},
   "source": [
    "# Paired T test"
   ]
  },
  {
   "cell_type": "code",
   "execution_count": 40,
   "id": "fe912cbe",
   "metadata": {},
   "outputs": [],
   "source": [
    "from scipy.stats import ttest_rel\n",
    "from random import sample"
   ]
  },
  {
   "cell_type": "markdown",
   "id": "a9e623f3",
   "metadata": {},
   "source": [
    "Problem statement: Find out whther average weight of people before lockdown is same/different after lockdown\n",
    "    \n",
    "Null Hypothese:  Weights before and after lockdown are same\n",
    "    \n",
    "Alternate Hypothesis:Weights before and after lockdown are different"
   ]
  },
  {
   "cell_type": "code",
   "execution_count": 41,
   "id": "5d5af443",
   "metadata": {},
   "outputs": [],
   "source": [
    "before_weight=sample(range(55,85),30)\n",
    "after_weight=sample(range(65,95),30)\n"
   ]
  },
  {
   "cell_type": "code",
   "execution_count": 42,
   "id": "b53ba299",
   "metadata": {},
   "outputs": [
    {
     "name": "stdout",
     "output_type": "stream",
     "text": [
      "Ttest_relResult(statistic=-5.314767468737767, pvalue=1.0576966246252347e-05)\n"
     ]
    }
   ],
   "source": [
    "print(ttest_rel(before_weight,after_weight))"
   ]
  },
  {
   "cell_type": "markdown",
   "id": "8102a6c2",
   "metadata": {},
   "source": [
    "Since the p value is less than 0.05, at 95% confidence level, we reject the null hypothese, i.e. Weight of people before and after lockdown is different"
   ]
  },
  {
   "cell_type": "markdown",
   "id": "d1b2aa44",
   "metadata": {},
   "source": [
    "# Z test"
   ]
  },
  {
   "cell_type": "code",
   "execution_count": 43,
   "id": "8fb36e99",
   "metadata": {},
   "outputs": [],
   "source": [
    "#Z test is very similar to t test except sample zie is greater than 30"
   ]
  },
  {
   "cell_type": "markdown",
   "id": "dab4ab3d",
   "metadata": {},
   "source": [
    "# One sample Z test"
   ]
  },
  {
   "cell_type": "markdown",
   "id": "2eca08e9",
   "metadata": {},
   "source": [
    "Problem statement: Based on some historical data, average literacy rate in pertical country was 89%, test this hypotheis with appropriate technique for recent times\n",
    "\n",
    "Null hypothesis: avg literacy=89%\n",
    "Alternate hypothesis= avg literacy!=89%\n"
   ]
  },
  {
   "cell_type": "code",
   "execution_count": 44,
   "id": "44dbc378",
   "metadata": {},
   "outputs": [],
   "source": [
    "from statsmodels.stats.weightstats import ztest\n",
    "from random import sample"
   ]
  },
  {
   "cell_type": "code",
   "execution_count": 49,
   "id": "a97cd5c4",
   "metadata": {},
   "outputs": [
    {
     "name": "stdout",
     "output_type": "stream",
     "text": [
      "62.74\n"
     ]
    }
   ],
   "source": [
    "sample1=sample(range(25,100),50)\n",
    "print(np.mean(sample1))"
   ]
  },
  {
   "cell_type": "code",
   "execution_count": 50,
   "id": "4cf99216",
   "metadata": {},
   "outputs": [
    {
     "name": "stdout",
     "output_type": "stream",
     "text": [
      "(-8.622994672012204, 6.5225491461229454e-18)\n"
     ]
    }
   ],
   "source": [
    "print(ztest(sample1,value=89))"
   ]
  },
  {
   "cell_type": "markdown",
   "id": "7f9f01eb",
   "metadata": {},
   "source": [
    "since p value is less than 0.05, We reject the null hypothesis ast 95% confidence level"
   ]
  },
  {
   "cell_type": "markdown",
   "id": "749354af",
   "metadata": {},
   "source": [
    "# Two sample Z test"
   ]
  },
  {
   "cell_type": "code",
   "execution_count": null,
   "id": "8b454310",
   "metadata": {},
   "outputs": [],
   "source": [
    "from statsmodels.stats.weightstats import ztest\n",
    "from random import sample"
   ]
  },
  {
   "cell_type": "markdown",
   "id": "37190db4",
   "metadata": {},
   "source": [
    "problem statement: compare the average literacy rate of urban and rural regions in India and check if it is same or different\n",
    "\n",
    "Null: average literacy of rural and urban is same\n",
    "\n",
    "Alternate: average literacy rate is different\n",
    "\n"
   ]
  },
  {
   "cell_type": "code",
   "execution_count": 51,
   "id": "41533eaf",
   "metadata": {},
   "outputs": [],
   "source": [
    "urban_literacy=sample(range(50,100),50)\n",
    "rural_literacy=sample(range(30,90),50)"
   ]
  },
  {
   "cell_type": "code",
   "execution_count": 52,
   "id": "ccb32726",
   "metadata": {},
   "outputs": [
    {
     "data": {
      "text/plain": [
       "(4.985294362980724, 6.18675486963188e-07)"
      ]
     },
     "execution_count": 52,
     "metadata": {},
     "output_type": "execute_result"
    }
   ],
   "source": [
    "ztest(urban_literacy,rural_literacy)"
   ]
  },
  {
   "cell_type": "code",
   "execution_count": 53,
   "id": "baef0b5e",
   "metadata": {},
   "outputs": [
    {
     "name": "stdout",
     "output_type": "stream",
     "text": [
      "74.5\n",
      "58.94\n"
     ]
    }
   ],
   "source": [
    "print(np.mean(urban_literacy))\n",
    "print(np.mean(rural_literacy))"
   ]
  },
  {
   "cell_type": "markdown",
   "id": "e4ff0756",
   "metadata": {},
   "source": [
    "# F test"
   ]
  },
  {
   "cell_type": "code",
   "execution_count": 1,
   "id": "e82c1b3b",
   "metadata": {},
   "outputs": [],
   "source": [
    "import scipy.stats as s\n",
    "from random import sample\n",
    "import numpy as np\n"
   ]
  },
  {
   "cell_type": "markdown",
   "id": "3ab1f93e",
   "metadata": {},
   "source": [
    "Problem satement: Compare the variance of male and female salries to check whtether salries is both groups have same or different distribution\n",
    "\n",
    "Null Hypotheses: Both male and female have equal variances\n",
    "Alternate hypothesis: Male and female variances are different"
   ]
  },
  {
   "cell_type": "code",
   "execution_count": 2,
   "id": "98b4bd4b",
   "metadata": {},
   "outputs": [],
   "source": [
    "male_salary=sample(range(10,100),35)\n",
    "female_salary=sample(range(45,80),35)"
   ]
  },
  {
   "cell_type": "code",
   "execution_count": 3,
   "id": "68138e42",
   "metadata": {},
   "outputs": [
    {
     "name": "stdout",
     "output_type": "stream",
     "text": [
      "56.42857142857143\n",
      "62.0\n"
     ]
    }
   ],
   "source": [
    "print(np.mean(male_salary))\n",
    "print(np.mean(female_salary))"
   ]
  },
  {
   "cell_type": "code",
   "execution_count": 4,
   "id": "b18b7f0e",
   "metadata": {},
   "outputs": [],
   "source": [
    "f=np.var(male_salary)/np.var(female_salary)"
   ]
  },
  {
   "cell_type": "code",
   "execution_count": 5,
   "id": "3a5594dc",
   "metadata": {},
   "outputs": [
    {
     "name": "stdout",
     "output_type": "stream",
     "text": [
      "5.874669867947178\n"
     ]
    }
   ],
   "source": [
    "# Value of f statistics\n",
    "print(f)"
   ]
  },
  {
   "cell_type": "code",
   "execution_count": 6,
   "id": "a2d50ba4",
   "metadata": {},
   "outputs": [],
   "source": [
    "p_val=1-s.f.cdf(f,len(male_salary)-1,len(female_salary)-1)\n"
   ]
  },
  {
   "cell_type": "code",
   "execution_count": 7,
   "id": "b29b3a0d",
   "metadata": {},
   "outputs": [
    {
     "name": "stdout",
     "output_type": "stream",
     "text": [
      "5.874669867947178 6.474680245283082e-07\n"
     ]
    }
   ],
   "source": [
    "print(f,p_val)"
   ]
  },
  {
   "cell_type": "markdown",
   "id": "79bf2d12",
   "metadata": {},
   "source": [
    "Since p values in less than 0.05, at 95% confidence we will reject the null hypothesis, the variances of male and female salries are different"
   ]
  },
  {
   "cell_type": "code",
   "execution_count": 8,
   "id": "0a1bbb12",
   "metadata": {},
   "outputs": [
    {
     "name": "stdout",
     "output_type": "stream",
     "text": [
      "599.2163265306122\n",
      "102.0\n"
     ]
    }
   ],
   "source": [
    "print(np.var(male_salary))\n",
    "print(np.var(female_salary))"
   ]
  },
  {
   "cell_type": "markdown",
   "id": "742c369e",
   "metadata": {},
   "source": [
    "# ANOVA-- Analysis of Variance"
   ]
  },
  {
   "cell_type": "markdown",
   "id": "c9d026f1",
   "metadata": {},
   "source": [
    "One Way ANOVA"
   ]
  },
  {
   "cell_type": "code",
   "execution_count": 12,
   "id": "08f846ab",
   "metadata": {},
   "outputs": [],
   "source": [
    "from random import sample\n",
    "from scipy.stats import f_oneway"
   ]
  },
  {
   "cell_type": "markdown",
   "id": "9277b49b",
   "metadata": {},
   "source": [
    "Null Hypothese: all the groups have same variances\n",
    "Alternate Hypothesis: atleast one group has different variance"
   ]
  },
  {
   "cell_type": "code",
   "execution_count": 13,
   "id": "6bcca5f9",
   "metadata": {},
   "outputs": [],
   "source": [
    "India=sample(range(10,200),40)\n",
    "USA=sample(range(100,1000),40)\n",
    "China=sample(range(10,300),40)"
   ]
  },
  {
   "cell_type": "code",
   "execution_count": 16,
   "id": "c7313f01",
   "metadata": {},
   "outputs": [
    {
     "name": "stdout",
     "output_type": "stream",
     "text": [
      "F_onewayResult(statistic=77.84455837422293, pvalue=3.1791154977442935e-22)\n"
     ]
    }
   ],
   "source": [
    "print(f_oneway(India,USA,China))"
   ]
  },
  {
   "cell_type": "markdown",
   "id": "afc013a4",
   "metadata": {},
   "source": [
    "Since, p values is less than 0.05, we will reject the null hypotheses"
   ]
  },
  {
   "cell_type": "code",
   "execution_count": 17,
   "id": "f92b652d",
   "metadata": {},
   "outputs": [
    {
     "name": "stdout",
     "output_type": "stream",
     "text": [
      "2754.29\n",
      "73821.7975\n",
      "7711.699374999999\n"
     ]
    }
   ],
   "source": [
    "print(np.var(India))\n",
    "print(np.var(USA))\n",
    "print(np.var(China))"
   ]
  },
  {
   "cell_type": "markdown",
   "id": "c19df717",
   "metadata": {},
   "source": [
    "Two way ANOVA"
   ]
  },
  {
   "cell_type": "code",
   "execution_count": 19,
   "id": "568698ca",
   "metadata": {},
   "outputs": [],
   "source": [
    "import statsmodels.api as sm\n",
    "from statsmodels.formula.api import ols\n",
    "import pandas as pd"
   ]
  },
  {
   "cell_type": "markdown",
   "id": "6e270101",
   "metadata": {},
   "source": [
    " Null Hypothesis: No variables have any effect on marks\n",
    " Alternate hypothesis: atleast one varible has effect marks\n",
    "     "
   ]
  },
  {
   "cell_type": "code",
   "execution_count": 20,
   "id": "1fbcfab6",
   "metadata": {},
   "outputs": [],
   "source": [
    "data=pd.read_csv(\"sample_data_for_anova.csv\")"
   ]
  },
  {
   "cell_type": "code",
   "execution_count": 21,
   "id": "969cf9b7",
   "metadata": {},
   "outputs": [
    {
     "data": {
      "text/html": [
       "<div>\n",
       "<style scoped>\n",
       "    .dataframe tbody tr th:only-of-type {\n",
       "        vertical-align: middle;\n",
       "    }\n",
       "\n",
       "    .dataframe tbody tr th {\n",
       "        vertical-align: top;\n",
       "    }\n",
       "\n",
       "    .dataframe thead th {\n",
       "        text-align: right;\n",
       "    }\n",
       "</style>\n",
       "<table border=\"1\" class=\"dataframe\">\n",
       "  <thead>\n",
       "    <tr style=\"text-align: right;\">\n",
       "      <th></th>\n",
       "      <th>Gender</th>\n",
       "      <th>Tuition</th>\n",
       "      <th>Frequency</th>\n",
       "      <th>Marks</th>\n",
       "    </tr>\n",
       "  </thead>\n",
       "  <tbody>\n",
       "    <tr>\n",
       "      <th>0</th>\n",
       "      <td>Male</td>\n",
       "      <td>Y</td>\n",
       "      <td>Daily</td>\n",
       "      <td>40</td>\n",
       "    </tr>\n",
       "    <tr>\n",
       "      <th>1</th>\n",
       "      <td>Female</td>\n",
       "      <td>Y</td>\n",
       "      <td>Weekly</td>\n",
       "      <td>40</td>\n",
       "    </tr>\n",
       "    <tr>\n",
       "      <th>2</th>\n",
       "      <td>TG</td>\n",
       "      <td>Y</td>\n",
       "      <td>Daily</td>\n",
       "      <td>45</td>\n",
       "    </tr>\n",
       "    <tr>\n",
       "      <th>3</th>\n",
       "      <td>Male</td>\n",
       "      <td>N</td>\n",
       "      <td>Daily</td>\n",
       "      <td>60</td>\n",
       "    </tr>\n",
       "    <tr>\n",
       "      <th>4</th>\n",
       "      <td>Female</td>\n",
       "      <td>N</td>\n",
       "      <td>Weekly</td>\n",
       "      <td>68</td>\n",
       "    </tr>\n",
       "    <tr>\n",
       "      <th>5</th>\n",
       "      <td>TG</td>\n",
       "      <td>Y</td>\n",
       "      <td>Daily</td>\n",
       "      <td>39</td>\n",
       "    </tr>\n",
       "    <tr>\n",
       "      <th>6</th>\n",
       "      <td>Male</td>\n",
       "      <td>N</td>\n",
       "      <td>Weekly</td>\n",
       "      <td>45</td>\n",
       "    </tr>\n",
       "    <tr>\n",
       "      <th>7</th>\n",
       "      <td>Male</td>\n",
       "      <td>Y</td>\n",
       "      <td>Daily</td>\n",
       "      <td>40</td>\n",
       "    </tr>\n",
       "    <tr>\n",
       "      <th>8</th>\n",
       "      <td>Female</td>\n",
       "      <td>Y</td>\n",
       "      <td>Daily</td>\n",
       "      <td>40</td>\n",
       "    </tr>\n",
       "    <tr>\n",
       "      <th>9</th>\n",
       "      <td>TG</td>\n",
       "      <td>Y</td>\n",
       "      <td>Weekly</td>\n",
       "      <td>45</td>\n",
       "    </tr>\n",
       "    <tr>\n",
       "      <th>10</th>\n",
       "      <td>Male</td>\n",
       "      <td>Y</td>\n",
       "      <td>Daily</td>\n",
       "      <td>60</td>\n",
       "    </tr>\n",
       "    <tr>\n",
       "      <th>11</th>\n",
       "      <td>Female</td>\n",
       "      <td>N</td>\n",
       "      <td>Weekly</td>\n",
       "      <td>68</td>\n",
       "    </tr>\n",
       "    <tr>\n",
       "      <th>12</th>\n",
       "      <td>TG</td>\n",
       "      <td>N</td>\n",
       "      <td>Daily</td>\n",
       "      <td>39</td>\n",
       "    </tr>\n",
       "    <tr>\n",
       "      <th>13</th>\n",
       "      <td>Male</td>\n",
       "      <td>Y</td>\n",
       "      <td>Daily</td>\n",
       "      <td>45</td>\n",
       "    </tr>\n",
       "    <tr>\n",
       "      <th>14</th>\n",
       "      <td>Female</td>\n",
       "      <td>Y</td>\n",
       "      <td>Daily</td>\n",
       "      <td>40</td>\n",
       "    </tr>\n",
       "    <tr>\n",
       "      <th>15</th>\n",
       "      <td>TG</td>\n",
       "      <td>Y</td>\n",
       "      <td>Weekly</td>\n",
       "      <td>45</td>\n",
       "    </tr>\n",
       "    <tr>\n",
       "      <th>16</th>\n",
       "      <td>Male</td>\n",
       "      <td>Y</td>\n",
       "      <td>Daily</td>\n",
       "      <td>60</td>\n",
       "    </tr>\n",
       "    <tr>\n",
       "      <th>17</th>\n",
       "      <td>Female</td>\n",
       "      <td>N</td>\n",
       "      <td>Weekly</td>\n",
       "      <td>68</td>\n",
       "    </tr>\n",
       "    <tr>\n",
       "      <th>18</th>\n",
       "      <td>TG</td>\n",
       "      <td>N</td>\n",
       "      <td>Daily</td>\n",
       "      <td>39</td>\n",
       "    </tr>\n",
       "    <tr>\n",
       "      <th>19</th>\n",
       "      <td>Male</td>\n",
       "      <td>Y</td>\n",
       "      <td>Daily</td>\n",
       "      <td>45</td>\n",
       "    </tr>\n",
       "  </tbody>\n",
       "</table>\n",
       "</div>"
      ],
      "text/plain": [
       "    Gender Tuition Frequency  Marks\n",
       "0     Male       Y     Daily     40\n",
       "1   Female       Y    Weekly     40\n",
       "2       TG       Y     Daily     45\n",
       "3     Male       N     Daily     60\n",
       "4   Female       N    Weekly     68\n",
       "5       TG       Y     Daily     39\n",
       "6     Male       N    Weekly     45\n",
       "7     Male       Y     Daily     40\n",
       "8   Female       Y     Daily     40\n",
       "9       TG       Y    Weekly     45\n",
       "10    Male       Y     Daily     60\n",
       "11  Female       N    Weekly     68\n",
       "12      TG       N     Daily     39\n",
       "13    Male       Y     Daily     45\n",
       "14  Female       Y     Daily     40\n",
       "15      TG       Y    Weekly     45\n",
       "16    Male       Y     Daily     60\n",
       "17  Female       N    Weekly     68\n",
       "18      TG       N     Daily     39\n",
       "19    Male       Y     Daily     45"
      ]
     },
     "execution_count": 21,
     "metadata": {},
     "output_type": "execute_result"
    }
   ],
   "source": [
    "data"
   ]
  },
  {
   "cell_type": "code",
   "execution_count": 22,
   "id": "2bbe96c6",
   "metadata": {},
   "outputs": [],
   "source": [
    "model=ols('Marks~C(Gender)+C(Tuition)+C(Frequency)',data=data).fit()"
   ]
  },
  {
   "cell_type": "code",
   "execution_count": 23,
   "id": "7967da85",
   "metadata": {},
   "outputs": [
    {
     "data": {
      "text/html": [
       "<div>\n",
       "<style scoped>\n",
       "    .dataframe tbody tr th:only-of-type {\n",
       "        vertical-align: middle;\n",
       "    }\n",
       "\n",
       "    .dataframe tbody tr th {\n",
       "        vertical-align: top;\n",
       "    }\n",
       "\n",
       "    .dataframe thead th {\n",
       "        text-align: right;\n",
       "    }\n",
       "</style>\n",
       "<table border=\"1\" class=\"dataframe\">\n",
       "  <thead>\n",
       "    <tr style=\"text-align: right;\">\n",
       "      <th></th>\n",
       "      <th>sum_sq</th>\n",
       "      <th>df</th>\n",
       "      <th>F</th>\n",
       "      <th>PR(&gt;F)</th>\n",
       "    </tr>\n",
       "  </thead>\n",
       "  <tbody>\n",
       "    <tr>\n",
       "      <th>C(Gender)</th>\n",
       "      <td>342.976176</td>\n",
       "      <td>2.0</td>\n",
       "      <td>2.011448</td>\n",
       "      <td>0.168310</td>\n",
       "    </tr>\n",
       "    <tr>\n",
       "      <th>C(Tuition)</th>\n",
       "      <td>275.229824</td>\n",
       "      <td>1.0</td>\n",
       "      <td>3.228273</td>\n",
       "      <td>0.092539</td>\n",
       "    </tr>\n",
       "    <tr>\n",
       "      <th>C(Frequency)</th>\n",
       "      <td>111.096736</td>\n",
       "      <td>1.0</td>\n",
       "      <td>1.303095</td>\n",
       "      <td>0.271545</td>\n",
       "    </tr>\n",
       "    <tr>\n",
       "      <th>Residual</th>\n",
       "      <td>1278.840764</td>\n",
       "      <td>15.0</td>\n",
       "      <td>NaN</td>\n",
       "      <td>NaN</td>\n",
       "    </tr>\n",
       "  </tbody>\n",
       "</table>\n",
       "</div>"
      ],
      "text/plain": [
       "                   sum_sq    df         F    PR(>F)\n",
       "C(Gender)      342.976176   2.0  2.011448  0.168310\n",
       "C(Tuition)     275.229824   1.0  3.228273  0.092539\n",
       "C(Frequency)   111.096736   1.0  1.303095  0.271545\n",
       "Residual      1278.840764  15.0       NaN       NaN"
      ]
     },
     "execution_count": 23,
     "metadata": {},
     "output_type": "execute_result"
    }
   ],
   "source": [
    "sm.stats.anova_lm(model,typ=2)"
   ]
  },
  {
   "cell_type": "markdown",
   "id": "91963ee4",
   "metadata": {},
   "source": [
    "# Chi Square test of independence"
   ]
  },
  {
   "cell_type": "code",
   "execution_count": 28,
   "id": "655f9314",
   "metadata": {},
   "outputs": [],
   "source": [
    "import pandas as pd\n",
    "from scipy.stats import chi2_contingency"
   ]
  },
  {
   "cell_type": "code",
   "execution_count": 24,
   "id": "1a6a22c2",
   "metadata": {},
   "outputs": [],
   "source": [
    "data=pd.read_csv(\"sample_data_for_chisquare.csv\")"
   ]
  },
  {
   "cell_type": "code",
   "execution_count": 25,
   "id": "6e8ce6ed",
   "metadata": {},
   "outputs": [
    {
     "data": {
      "text/html": [
       "<div>\n",
       "<style scoped>\n",
       "    .dataframe tbody tr th:only-of-type {\n",
       "        vertical-align: middle;\n",
       "    }\n",
       "\n",
       "    .dataframe tbody tr th {\n",
       "        vertical-align: top;\n",
       "    }\n",
       "\n",
       "    .dataframe thead th {\n",
       "        text-align: right;\n",
       "    }\n",
       "</style>\n",
       "<table border=\"1\" class=\"dataframe\">\n",
       "  <thead>\n",
       "    <tr style=\"text-align: right;\">\n",
       "      <th></th>\n",
       "      <th>Gender</th>\n",
       "      <th>Color</th>\n",
       "    </tr>\n",
       "  </thead>\n",
       "  <tbody>\n",
       "    <tr>\n",
       "      <th>0</th>\n",
       "      <td>Male</td>\n",
       "      <td>Red</td>\n",
       "    </tr>\n",
       "    <tr>\n",
       "      <th>1</th>\n",
       "      <td>Female</td>\n",
       "      <td>Blue</td>\n",
       "    </tr>\n",
       "    <tr>\n",
       "      <th>2</th>\n",
       "      <td>TG</td>\n",
       "      <td>Red</td>\n",
       "    </tr>\n",
       "    <tr>\n",
       "      <th>3</th>\n",
       "      <td>Male</td>\n",
       "      <td>Green</td>\n",
       "    </tr>\n",
       "    <tr>\n",
       "      <th>4</th>\n",
       "      <td>Female</td>\n",
       "      <td>Red</td>\n",
       "    </tr>\n",
       "    <tr>\n",
       "      <th>5</th>\n",
       "      <td>TG</td>\n",
       "      <td>Blue</td>\n",
       "    </tr>\n",
       "    <tr>\n",
       "      <th>6</th>\n",
       "      <td>Male</td>\n",
       "      <td>Red</td>\n",
       "    </tr>\n",
       "    <tr>\n",
       "      <th>7</th>\n",
       "      <td>Male</td>\n",
       "      <td>Green</td>\n",
       "    </tr>\n",
       "    <tr>\n",
       "      <th>8</th>\n",
       "      <td>Female</td>\n",
       "      <td>Red</td>\n",
       "    </tr>\n",
       "    <tr>\n",
       "      <th>9</th>\n",
       "      <td>TG</td>\n",
       "      <td>Blue</td>\n",
       "    </tr>\n",
       "    <tr>\n",
       "      <th>10</th>\n",
       "      <td>Male</td>\n",
       "      <td>Red</td>\n",
       "    </tr>\n",
       "    <tr>\n",
       "      <th>11</th>\n",
       "      <td>Female</td>\n",
       "      <td>Green</td>\n",
       "    </tr>\n",
       "    <tr>\n",
       "      <th>12</th>\n",
       "      <td>TG</td>\n",
       "      <td>Red</td>\n",
       "    </tr>\n",
       "    <tr>\n",
       "      <th>13</th>\n",
       "      <td>Male</td>\n",
       "      <td>Blue</td>\n",
       "    </tr>\n",
       "    <tr>\n",
       "      <th>14</th>\n",
       "      <td>Female</td>\n",
       "      <td>Red</td>\n",
       "    </tr>\n",
       "    <tr>\n",
       "      <th>15</th>\n",
       "      <td>TG</td>\n",
       "      <td>Green</td>\n",
       "    </tr>\n",
       "    <tr>\n",
       "      <th>16</th>\n",
       "      <td>Male</td>\n",
       "      <td>Red</td>\n",
       "    </tr>\n",
       "    <tr>\n",
       "      <th>17</th>\n",
       "      <td>Female</td>\n",
       "      <td>Blue</td>\n",
       "    </tr>\n",
       "    <tr>\n",
       "      <th>18</th>\n",
       "      <td>TG</td>\n",
       "      <td>Red</td>\n",
       "    </tr>\n",
       "    <tr>\n",
       "      <th>19</th>\n",
       "      <td>Male</td>\n",
       "      <td>Green</td>\n",
       "    </tr>\n",
       "  </tbody>\n",
       "</table>\n",
       "</div>"
      ],
      "text/plain": [
       "    Gender  Color\n",
       "0     Male    Red\n",
       "1   Female   Blue\n",
       "2       TG    Red\n",
       "3     Male  Green\n",
       "4   Female    Red\n",
       "5       TG   Blue\n",
       "6     Male    Red\n",
       "7     Male  Green\n",
       "8   Female    Red\n",
       "9       TG   Blue\n",
       "10    Male    Red\n",
       "11  Female  Green\n",
       "12      TG    Red\n",
       "13    Male   Blue\n",
       "14  Female    Red\n",
       "15      TG  Green\n",
       "16    Male    Red\n",
       "17  Female   Blue\n",
       "18      TG    Red\n",
       "19    Male  Green"
      ]
     },
     "execution_count": 25,
     "metadata": {},
     "output_type": "execute_result"
    }
   ],
   "source": [
    "data"
   ]
  },
  {
   "cell_type": "code",
   "execution_count": 26,
   "id": "02066d25",
   "metadata": {},
   "outputs": [],
   "source": [
    "contingency_table=pd.crosstab(data[\"Gender\"],data[\"Color\"])"
   ]
  },
  {
   "cell_type": "code",
   "execution_count": 27,
   "id": "3dbecaf0",
   "metadata": {},
   "outputs": [
    {
     "data": {
      "text/html": [
       "<div>\n",
       "<style scoped>\n",
       "    .dataframe tbody tr th:only-of-type {\n",
       "        vertical-align: middle;\n",
       "    }\n",
       "\n",
       "    .dataframe tbody tr th {\n",
       "        vertical-align: top;\n",
       "    }\n",
       "\n",
       "    .dataframe thead th {\n",
       "        text-align: right;\n",
       "    }\n",
       "</style>\n",
       "<table border=\"1\" class=\"dataframe\">\n",
       "  <thead>\n",
       "    <tr style=\"text-align: right;\">\n",
       "      <th>Color</th>\n",
       "      <th>Blue</th>\n",
       "      <th>Green</th>\n",
       "      <th>Red</th>\n",
       "    </tr>\n",
       "    <tr>\n",
       "      <th>Gender</th>\n",
       "      <th></th>\n",
       "      <th></th>\n",
       "      <th></th>\n",
       "    </tr>\n",
       "  </thead>\n",
       "  <tbody>\n",
       "    <tr>\n",
       "      <th>Female</th>\n",
       "      <td>2</td>\n",
       "      <td>1</td>\n",
       "      <td>3</td>\n",
       "    </tr>\n",
       "    <tr>\n",
       "      <th>Male</th>\n",
       "      <td>1</td>\n",
       "      <td>3</td>\n",
       "      <td>4</td>\n",
       "    </tr>\n",
       "    <tr>\n",
       "      <th>TG</th>\n",
       "      <td>2</td>\n",
       "      <td>1</td>\n",
       "      <td>3</td>\n",
       "    </tr>\n",
       "  </tbody>\n",
       "</table>\n",
       "</div>"
      ],
      "text/plain": [
       "Color   Blue  Green  Red\n",
       "Gender                  \n",
       "Female     2      1    3\n",
       "Male       1      3    4\n",
       "TG         2      1    3"
      ]
     },
     "execution_count": 27,
     "metadata": {},
     "output_type": "execute_result"
    }
   ],
   "source": [
    "contingency_table"
   ]
  },
  {
   "cell_type": "code",
   "execution_count": 29,
   "id": "bf1a5e60",
   "metadata": {},
   "outputs": [
    {
     "data": {
      "text/plain": [
       "(1.6666666666666665,\n",
       " 0.7967633822629767,\n",
       " 4,\n",
       " array([[1.5, 1.5, 3. ],\n",
       "        [2. , 2. , 4. ],\n",
       "        [1.5, 1.5, 3. ]]))"
      ]
     },
     "execution_count": 29,
     "metadata": {},
     "output_type": "execute_result"
    }
   ],
   "source": [
    "chi2_contingency(contingency_table)"
   ]
  },
  {
   "cell_type": "markdown",
   "id": "720647dd",
   "metadata": {},
   "source": [
    "Since p value is greater than 0.05, we can say there is no relation between color and gender\n",
    " \n",
    "or\n",
    "\n",
    "We do not have enough evidence to prove there is relation benween gender an color"
   ]
  },
  {
   "cell_type": "code",
   "execution_count": null,
   "id": "d25c5230",
   "metadata": {},
   "outputs": [],
   "source": []
  },
  {
   "cell_type": "code",
   "execution_count": null,
   "id": "79ec2260",
   "metadata": {},
   "outputs": [],
   "source": []
  }
 ],
 "metadata": {
  "kernelspec": {
   "display_name": "Python 3 (ipykernel)",
   "language": "python",
   "name": "python3"
  },
  "language_info": {
   "codemirror_mode": {
    "name": "ipython",
    "version": 3
   },
   "file_extension": ".py",
   "mimetype": "text/x-python",
   "name": "python",
   "nbconvert_exporter": "python",
   "pygments_lexer": "ipython3",
   "version": "3.11.4"
  }
 },
 "nbformat": 4,
 "nbformat_minor": 5
}
